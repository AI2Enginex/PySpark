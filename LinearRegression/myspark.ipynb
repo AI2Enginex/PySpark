{
 "cells": [
  {
   "cell_type": "code",
   "execution_count": 1,
   "metadata": {},
   "outputs": [],
   "source": [
    "from pyspark.sql import SparkSession\n",
    "from pyspark.sql.functions import col, when, count, regexp_extract, coalesce\n",
    "from pyspark.ml.feature import VectorAssembler\n",
    "from pyspark.ml.feature import StringIndexer, OneHotEncoder\n",
    "from pyspark.ml import Pipeline\n",
    "from pyspark.ml.feature import MinMaxScaler\n",
    "from pyspark.ml.regression import LinearRegression\n",
    "from pyspark.ml.evaluation import RegressionEvaluator\n"
   ]
  },
  {
   "cell_type": "code",
   "execution_count": 2,
   "metadata": {},
   "outputs": [],
   "source": [
    "spark = SparkSession.builder.appName(\"DataFrame Preprocessing\").getOrCreate()\n",
    "dataset = spark.read.csv(\"./big_mart.csv\",header=True)"
   ]
  },
  {
   "cell_type": "code",
   "execution_count": 3,
   "metadata": {},
   "outputs": [
    {
     "name": "stdout",
     "output_type": "stream",
     "text": [
      "+---------------+-----------+----------------+---------------+--------------------+--------+-----------------+-------------------------+-----------+--------------------+-----------------+-----------------+-----------+---------+-----------------+-----------------+--------------+\n",
      "|Item_Identifier|Item_Weight|Item_Fat_Content|Item_Visibility|           Item_Type|Item_MRP|Outlet_Identifier|Outlet_Establishment_Year|Outlet_Size|Outlet_Location_Type|      Outlet_Type|Item_Outlet_Sales|   Category|City_Type|Variance_of_sales|  mean_comparison|Data_direction|\n",
      "+---------------+-----------+----------------+---------------+--------------------+--------+-----------------+-------------------------+-----------+--------------------+-----------------+-----------------+-----------+---------+-----------------+-----------------+--------------+\n",
      "|          FDP10|       12.6|         Low Fat|    0.127469857|         Snack Foods|107.7622|           OUT027|                     1985|     Medium|              Tier 3|Supermarket Type3|        4022.7636|    Healthy|  Village|          1841.47|greater_than_mean|   Left tailed|\n",
      "|          DRI11|       12.6|         Low Fat|    0.034237682|         Hard Drinks|113.2834|           OUT027|                     1985|     Medium|              Tier 3|Supermarket Type3|         2303.668|    Healthy|  Village|           122.38|greater_than_mean|   Left tailed|\n",
      "|          FDW12|       12.6|         Regular|    0.035399923|        Baking Goods|144.5444|           OUT027|                     1985|     Medium|              Tier 3|Supermarket Type3|        4064.0432|Not Healthy|  Village|          1882.75|greater_than_mean|   Left tailed|\n",
      "|          FDV20|       12.6|         Regular|    0.059511812|Fruits and Vegeta...|128.0678|           OUT027|                     1985|     Medium|              Tier 3|Supermarket Type3|        2797.6916|Not Healthy|  Village|            616.4|greater_than_mean|   Left tailed|\n",
      "|          FDX10|       12.6|         Regular|    0.123111453|         Snack Foods| 36.9874|           OUT027|                     1985|     Medium|              Tier 3|Supermarket Type3|         388.1614|Not Healthy|  Village|         -1793.13|   less_than_mean|   Left tailed|\n",
      "|          FDB34|       12.6|         Low Fat|    0.026480954|         Snack Foods| 87.6198|           OUT027|                     1985|     Medium|              Tier 3|Supermarket Type3|         2180.495|    Healthy|  Village|            -0.79|   less_than_mean|   Left tailed|\n",
      "|          FDF09|       12.6|         Low Fat|    0.012090074|Fruits and Vegeta...| 38.2848|           OUT027|                     1985|     Medium|              Tier 3|Supermarket Type3|         484.7024|    Healthy|  Village|         -1696.59|   less_than_mean|   Left tailed|\n",
      "|          FDY45|       12.6|         Low Fat|    0.026015519|         Snack Foods|255.8356|           OUT027|                     1985|     Medium|              Tier 3|Supermarket Type3|         2543.356|    Healthy|  Village|           362.07|greater_than_mean|   Left tailed|\n",
      "|          FDR12|       12.6|         Regular|    0.031382044|        Baking Goods|171.3764|           OUT027|                     1985|     Medium|              Tier 3|Supermarket Type3|        3091.9752|Not Healthy|  Village|           910.69|greater_than_mean|   Left tailed|\n",
      "|          FDQ49|       12.6|         Regular|    0.039057677|           Breakfast| 155.963|           OUT027|                     1985|     Medium|              Tier 3|Supermarket Type3|         3285.723|Not Healthy|  Village|          1104.43|greater_than_mean|   Left tailed|\n",
      "|          NCP18|       12.6|         Low Fat|    0.028459761|           Household|149.9708|           OUT027|                     1985|     Medium|              Tier 3|Supermarket Type3|        4363.6532|    Healthy|  Village|          2182.36|greater_than_mean|  right tailed|\n",
      "|          FDD10|       12.6|         Regular|    0.045797829|         Snack Foods|178.5344|           OUT027|                     1985|     Medium|              Tier 3|Supermarket Type3|        2854.9504|Not Healthy|  Village|           673.66|greater_than_mean|   Left tailed|\n",
      "|          FDX34|       12.6|         Low Fat|    0.071636937|         Snack Foods|121.7098|           OUT027|                     1985|     Medium|              Tier 3|Supermarket Type3|        4097.3332|    Healthy|  Village|          1916.04|greater_than_mean|   Left tailed|\n",
      "|          FDY25|       12.6|         Low Fat|    0.033809913|              Canned|180.5976|           OUT027|                     1985|     Medium|              Tier 3|Supermarket Type3|        7968.2944|    Healthy|  Village|          5787.01|greater_than_mean|  right tailed|\n",
      "|          NCR53|       12.6|         Low Fat|    0.144338493|  Health and Hygiene|224.4404|           OUT027|                     1985|     Medium|              Tier 3|Supermarket Type3|        6976.2524|    Healthy|  Village|          4794.96|greater_than_mean|  right tailed|\n",
      "|          FDH35|       12.6|         Low Fat|    0.059956876|       Starchy Foods|165.4526|           OUT027|                     1985|     Medium|              Tier 3|Supermarket Type3|        5262.4832|    Healthy|  Village|          3081.19|greater_than_mean|  right tailed|\n",
      "|          DRK12|       12.6|         Low Fat|    0.041683481|         Soft Drinks|   31.29|           OUT027|                     1985|     Medium|              Tier 3|Supermarket Type3|           898.83|    Healthy|  Village|         -1282.46|   less_than_mean|   Left tailed|\n",
      "|          FDR07|       12.6|         Low Fat|    0.077367431|Fruits and Vegeta...| 97.0094|           OUT027|                     1985|     Medium|              Tier 3|Supermarket Type3|        1808.9786|    Healthy|  Village|          -372.31|   less_than_mean|   Left tailed|\n",
      "|          NCB30|       12.6|         Low Fat|    0.025578526|           Household|198.8084|           OUT027|                     1985|     Medium|              Tier 3|Supermarket Type3|        5555.4352|    Healthy|  Village|          3374.15|greater_than_mean|  right tailed|\n",
      "|          FDQ28|       12.6|         Regular|    0.060134441|        Frozen Foods|153.0656|           OUT027|                     1985|     Medium|              Tier 3|Supermarket Type3|        6024.1584|Not Healthy|  Village|          3842.87|greater_than_mean|  right tailed|\n",
      "+---------------+-----------+----------------+---------------+--------------------+--------+-----------------+-------------------------+-----------+--------------------+-----------------+-----------------+-----------+---------+-----------------+-----------------+--------------+\n",
      "only showing top 20 rows\n",
      "\n"
     ]
    }
   ],
   "source": [
    "dataset.show()"
   ]
  },
  {
   "cell_type": "code",
   "execution_count": 4,
   "metadata": {},
   "outputs": [
    {
     "name": "stdout",
     "output_type": "stream",
     "text": [
      "root\n",
      " |-- Item_Identifier: string (nullable = true)\n",
      " |-- Item_Weight: string (nullable = true)\n",
      " |-- Item_Fat_Content: string (nullable = true)\n",
      " |-- Item_Visibility: string (nullable = true)\n",
      " |-- Item_Type: string (nullable = true)\n",
      " |-- Item_MRP: string (nullable = true)\n",
      " |-- Outlet_Identifier: string (nullable = true)\n",
      " |-- Outlet_Establishment_Year: string (nullable = true)\n",
      " |-- Outlet_Size: string (nullable = true)\n",
      " |-- Outlet_Location_Type: string (nullable = true)\n",
      " |-- Outlet_Type: string (nullable = true)\n",
      " |-- Item_Outlet_Sales: string (nullable = true)\n",
      " |-- Category: string (nullable = true)\n",
      " |-- City_Type: string (nullable = true)\n",
      " |-- Variance_of_sales: string (nullable = true)\n",
      " |-- mean_comparison: string (nullable = true)\n",
      " |-- Data_direction: string (nullable = true)\n",
      "\n"
     ]
    }
   ],
   "source": [
    "dataset.printSchema()"
   ]
  },
  {
   "cell_type": "code",
   "execution_count": 5,
   "metadata": {},
   "outputs": [],
   "source": [
    "column_names = ['Item_Weight','Item_MRP','Item_Outlet_Sales']\n",
    "# for cols in column_names:\n",
    "#     dataset = dataset.withColumn([cols, col(cols).cast('float')])\n",
    "dataset = dataset.select(*[col(cols).cast('float').alias(cols) if cols in column_names else col(cols) for cols in dataset.columns])\n"
   ]
  },
  {
   "cell_type": "code",
   "execution_count": 6,
   "metadata": {},
   "outputs": [
    {
     "name": "stdout",
     "output_type": "stream",
     "text": [
      "root\n",
      " |-- Item_Identifier: string (nullable = true)\n",
      " |-- Item_Weight: float (nullable = true)\n",
      " |-- Item_Fat_Content: string (nullable = true)\n",
      " |-- Item_Visibility: string (nullable = true)\n",
      " |-- Item_Type: string (nullable = true)\n",
      " |-- Item_MRP: float (nullable = true)\n",
      " |-- Outlet_Identifier: string (nullable = true)\n",
      " |-- Outlet_Establishment_Year: string (nullable = true)\n",
      " |-- Outlet_Size: string (nullable = true)\n",
      " |-- Outlet_Location_Type: string (nullable = true)\n",
      " |-- Outlet_Type: string (nullable = true)\n",
      " |-- Item_Outlet_Sales: float (nullable = true)\n",
      " |-- Category: string (nullable = true)\n",
      " |-- City_Type: string (nullable = true)\n",
      " |-- Variance_of_sales: string (nullable = true)\n",
      " |-- mean_comparison: string (nullable = true)\n",
      " |-- Data_direction: string (nullable = true)\n",
      "\n"
     ]
    }
   ],
   "source": [
    "dataset.printSchema()"
   ]
  },
  {
   "cell_type": "code",
   "execution_count": 7,
   "metadata": {},
   "outputs": [
    {
     "name": "stdout",
     "output_type": "stream",
     "text": [
      "+---------------+-----------+----------------+---------------+--------------------+--------+-----------------+-------------------------+-----------+--------------------+-----------------+-----------------+-----------+---------+-----------------+-----------------+--------------+\n",
      "|Item_Identifier|Item_Weight|Item_Fat_Content|Item_Visibility|           Item_Type|Item_MRP|Outlet_Identifier|Outlet_Establishment_Year|Outlet_Size|Outlet_Location_Type|      Outlet_Type|Item_Outlet_Sales|   Category|City_Type|Variance_of_sales|  mean_comparison|Data_direction|\n",
      "+---------------+-----------+----------------+---------------+--------------------+--------+-----------------+-------------------------+-----------+--------------------+-----------------+-----------------+-----------+---------+-----------------+-----------------+--------------+\n",
      "|          FDP10|       12.6|         Low Fat|    0.127469857|         Snack Foods|107.7622|           OUT027|                     1985|     Medium|              Tier 3|Supermarket Type3|        4022.7637|    Healthy|  Village|          1841.47|greater_than_mean|   Left tailed|\n",
      "|          DRI11|       12.6|         Low Fat|    0.034237682|         Hard Drinks|113.2834|           OUT027|                     1985|     Medium|              Tier 3|Supermarket Type3|         2303.668|    Healthy|  Village|           122.38|greater_than_mean|   Left tailed|\n",
      "|          FDW12|       12.6|         Regular|    0.035399923|        Baking Goods|144.5444|           OUT027|                     1985|     Medium|              Tier 3|Supermarket Type3|        4064.0432|Not Healthy|  Village|          1882.75|greater_than_mean|   Left tailed|\n",
      "|          FDV20|       12.6|         Regular|    0.059511812|Fruits and Vegeta...|128.0678|           OUT027|                     1985|     Medium|              Tier 3|Supermarket Type3|        2797.6917|Not Healthy|  Village|            616.4|greater_than_mean|   Left tailed|\n",
      "|          FDX10|       12.6|         Regular|    0.123111453|         Snack Foods| 36.9874|           OUT027|                     1985|     Medium|              Tier 3|Supermarket Type3|         388.1614|Not Healthy|  Village|         -1793.13|   less_than_mean|   Left tailed|\n",
      "|          FDB34|       12.6|         Low Fat|    0.026480954|         Snack Foods| 87.6198|           OUT027|                     1985|     Medium|              Tier 3|Supermarket Type3|         2180.495|    Healthy|  Village|            -0.79|   less_than_mean|   Left tailed|\n",
      "|          FDF09|       12.6|         Low Fat|    0.012090074|Fruits and Vegeta...| 38.2848|           OUT027|                     1985|     Medium|              Tier 3|Supermarket Type3|         484.7024|    Healthy|  Village|         -1696.59|   less_than_mean|   Left tailed|\n",
      "|          FDY45|       12.6|         Low Fat|    0.026015519|         Snack Foods|255.8356|           OUT027|                     1985|     Medium|              Tier 3|Supermarket Type3|         2543.356|    Healthy|  Village|           362.07|greater_than_mean|   Left tailed|\n",
      "|          FDR12|       12.6|         Regular|    0.031382044|        Baking Goods|171.3764|           OUT027|                     1985|     Medium|              Tier 3|Supermarket Type3|         3091.975|Not Healthy|  Village|           910.69|greater_than_mean|   Left tailed|\n",
      "|          FDQ49|       12.6|         Regular|    0.039057677|           Breakfast| 155.963|           OUT027|                     1985|     Medium|              Tier 3|Supermarket Type3|         3285.723|Not Healthy|  Village|          1104.43|greater_than_mean|   Left tailed|\n",
      "|          NCP18|       12.6|         Low Fat|    0.028459761|           Household|149.9708|           OUT027|                     1985|     Medium|              Tier 3|Supermarket Type3|        4363.6533|    Healthy|  Village|          2182.36|greater_than_mean|  right tailed|\n",
      "|          FDD10|       12.6|         Regular|    0.045797829|         Snack Foods|178.5344|           OUT027|                     1985|     Medium|              Tier 3|Supermarket Type3|        2854.9504|Not Healthy|  Village|           673.66|greater_than_mean|   Left tailed|\n",
      "|          FDX34|       12.6|         Low Fat|    0.071636937|         Snack Foods|121.7098|           OUT027|                     1985|     Medium|              Tier 3|Supermarket Type3|         4097.333|    Healthy|  Village|          1916.04|greater_than_mean|   Left tailed|\n",
      "|          FDY25|       12.6|         Low Fat|    0.033809913|              Canned|180.5976|           OUT027|                     1985|     Medium|              Tier 3|Supermarket Type3|        7968.2944|    Healthy|  Village|          5787.01|greater_than_mean|  right tailed|\n",
      "|          NCR53|       12.6|         Low Fat|    0.144338493|  Health and Hygiene|224.4404|           OUT027|                     1985|     Medium|              Tier 3|Supermarket Type3|        6976.2524|    Healthy|  Village|          4794.96|greater_than_mean|  right tailed|\n",
      "|          FDH35|       12.6|         Low Fat|    0.059956876|       Starchy Foods|165.4526|           OUT027|                     1985|     Medium|              Tier 3|Supermarket Type3|        5262.4834|    Healthy|  Village|          3081.19|greater_than_mean|  right tailed|\n",
      "|          DRK12|       12.6|         Low Fat|    0.041683481|         Soft Drinks|   31.29|           OUT027|                     1985|     Medium|              Tier 3|Supermarket Type3|           898.83|    Healthy|  Village|         -1282.46|   less_than_mean|   Left tailed|\n",
      "|          FDR07|       12.6|         Low Fat|    0.077367431|Fruits and Vegeta...| 97.0094|           OUT027|                     1985|     Medium|              Tier 3|Supermarket Type3|        1808.9786|    Healthy|  Village|          -372.31|   less_than_mean|   Left tailed|\n",
      "|          NCB30|       12.6|         Low Fat|    0.025578526|           Household|198.8084|           OUT027|                     1985|     Medium|              Tier 3|Supermarket Type3|         5555.435|    Healthy|  Village|          3374.15|greater_than_mean|  right tailed|\n",
      "|          FDQ28|       12.6|         Regular|    0.060134441|        Frozen Foods|153.0656|           OUT027|                     1985|     Medium|              Tier 3|Supermarket Type3|         6024.158|Not Healthy|  Village|          3842.87|greater_than_mean|  right tailed|\n",
      "+---------------+-----------+----------------+---------------+--------------------+--------+-----------------+-------------------------+-----------+--------------------+-----------------+-----------------+-----------+---------+-----------------+-----------------+--------------+\n",
      "only showing top 20 rows\n",
      "\n"
     ]
    }
   ],
   "source": [
    "dataset.show()"
   ]
  },
  {
   "cell_type": "code",
   "execution_count": 8,
   "metadata": {},
   "outputs": [
    {
     "data": {
      "text/plain": [
       "8523"
      ]
     },
     "execution_count": 8,
     "metadata": {},
     "output_type": "execute_result"
    }
   ],
   "source": [
    "dataset.count()"
   ]
  },
  {
   "cell_type": "code",
   "execution_count": 9,
   "metadata": {},
   "outputs": [
    {
     "data": {
      "text/plain": [
       "Row(Item_Identifier='FDP10', Item_Weight=12.600000381469727, Item_Fat_Content='Low Fat', Item_Visibility='0.127469857', Item_Type='Snack Foods', Item_MRP=107.76219940185547, Outlet_Identifier='OUT027', Outlet_Establishment_Year='1985', Outlet_Size='Medium', Outlet_Location_Type='Tier 3', Outlet_Type='Supermarket Type3', Item_Outlet_Sales=4022.763671875, Category='Healthy', City_Type='Village', Variance_of_sales='1841.47', mean_comparison='greater_than_mean', Data_direction='Left tailed')"
      ]
     },
     "execution_count": 9,
     "metadata": {},
     "output_type": "execute_result"
    }
   ],
   "source": [
    "dataset.first()"
   ]
  },
  {
   "cell_type": "code",
   "execution_count": 10,
   "metadata": {},
   "outputs": [
    {
     "name": "stdout",
     "output_type": "stream",
     "text": [
      "+---------------+-----------+----------------+---------------+--------------------+--------+-----------------+-------------------------+-----------+--------------------+-----------------+-----------------+-----------+---------+-----------------+-----------------+--------------+\n",
      "|Item_Identifier|Item_Weight|Item_Fat_Content|Item_Visibility|           Item_Type|Item_MRP|Outlet_Identifier|Outlet_Establishment_Year|Outlet_Size|Outlet_Location_Type|      Outlet_Type|Item_Outlet_Sales|   Category|City_Type|Variance_of_sales|  mean_comparison|Data_direction|\n",
      "+---------------+-----------+----------------+---------------+--------------------+--------+-----------------+-------------------------+-----------+--------------------+-----------------+-----------------+-----------+---------+-----------------+-----------------+--------------+\n",
      "|          FDP10|       12.6|         Low Fat|    0.127469857|         Snack Foods|107.7622|           OUT027|                     1985|     Medium|              Tier 3|Supermarket Type3|        4022.7637|    Healthy|  Village|          1841.47|greater_than_mean|   Left tailed|\n",
      "|          DRI11|       12.6|         Low Fat|    0.034237682|         Hard Drinks|113.2834|           OUT027|                     1985|     Medium|              Tier 3|Supermarket Type3|         2303.668|    Healthy|  Village|           122.38|greater_than_mean|   Left tailed|\n",
      "|          FDW12|       12.6|         Regular|    0.035399923|        Baking Goods|144.5444|           OUT027|                     1985|     Medium|              Tier 3|Supermarket Type3|        4064.0432|Not Healthy|  Village|          1882.75|greater_than_mean|   Left tailed|\n",
      "|          FDV20|       12.6|         Regular|    0.059511812|Fruits and Vegeta...|128.0678|           OUT027|                     1985|     Medium|              Tier 3|Supermarket Type3|        2797.6917|Not Healthy|  Village|            616.4|greater_than_mean|   Left tailed|\n",
      "|          FDX10|       12.6|         Regular|    0.123111453|         Snack Foods| 36.9874|           OUT027|                     1985|     Medium|              Tier 3|Supermarket Type3|         388.1614|Not Healthy|  Village|         -1793.13|   less_than_mean|   Left tailed|\n",
      "|          FDB34|       12.6|         Low Fat|    0.026480954|         Snack Foods| 87.6198|           OUT027|                     1985|     Medium|              Tier 3|Supermarket Type3|         2180.495|    Healthy|  Village|            -0.79|   less_than_mean|   Left tailed|\n",
      "|          FDF09|       12.6|         Low Fat|    0.012090074|Fruits and Vegeta...| 38.2848|           OUT027|                     1985|     Medium|              Tier 3|Supermarket Type3|         484.7024|    Healthy|  Village|         -1696.59|   less_than_mean|   Left tailed|\n",
      "|          FDY45|       12.6|         Low Fat|    0.026015519|         Snack Foods|255.8356|           OUT027|                     1985|     Medium|              Tier 3|Supermarket Type3|         2543.356|    Healthy|  Village|           362.07|greater_than_mean|   Left tailed|\n",
      "|          FDR12|       12.6|         Regular|    0.031382044|        Baking Goods|171.3764|           OUT027|                     1985|     Medium|              Tier 3|Supermarket Type3|         3091.975|Not Healthy|  Village|           910.69|greater_than_mean|   Left tailed|\n",
      "|          FDQ49|       12.6|         Regular|    0.039057677|           Breakfast| 155.963|           OUT027|                     1985|     Medium|              Tier 3|Supermarket Type3|         3285.723|Not Healthy|  Village|          1104.43|greater_than_mean|   Left tailed|\n",
      "|          NCP18|       12.6|         Low Fat|    0.028459761|           Household|149.9708|           OUT027|                     1985|     Medium|              Tier 3|Supermarket Type3|        4363.6533|    Healthy|  Village|          2182.36|greater_than_mean|  right tailed|\n",
      "|          FDD10|       12.6|         Regular|    0.045797829|         Snack Foods|178.5344|           OUT027|                     1985|     Medium|              Tier 3|Supermarket Type3|        2854.9504|Not Healthy|  Village|           673.66|greater_than_mean|   Left tailed|\n",
      "|          FDX34|       12.6|         Low Fat|    0.071636937|         Snack Foods|121.7098|           OUT027|                     1985|     Medium|              Tier 3|Supermarket Type3|         4097.333|    Healthy|  Village|          1916.04|greater_than_mean|   Left tailed|\n",
      "|          FDY25|       12.6|         Low Fat|    0.033809913|              Canned|180.5976|           OUT027|                     1985|     Medium|              Tier 3|Supermarket Type3|        7968.2944|    Healthy|  Village|          5787.01|greater_than_mean|  right tailed|\n",
      "|          NCR53|       12.6|         Low Fat|    0.144338493|  Health and Hygiene|224.4404|           OUT027|                     1985|     Medium|              Tier 3|Supermarket Type3|        6976.2524|    Healthy|  Village|          4794.96|greater_than_mean|  right tailed|\n",
      "+---------------+-----------+----------------+---------------+--------------------+--------+-----------------+-------------------------+-----------+--------------------+-----------------+-----------------+-----------+---------+-----------------+-----------------+--------------+\n",
      "only showing top 15 rows\n",
      "\n"
     ]
    }
   ],
   "source": [
    "dataset.show(15)"
   ]
  },
  {
   "cell_type": "code",
   "execution_count": 11,
   "metadata": {},
   "outputs": [],
   "source": [
    "filter_by_weight = dataset.filter(\"Item_Weight <= 20\")"
   ]
  },
  {
   "cell_type": "code",
   "execution_count": 12,
   "metadata": {},
   "outputs": [
    {
     "name": "stdout",
     "output_type": "stream",
     "text": [
      "+---------------+-----------+----------------+---------------+--------------------+--------+-----------------+-------------------------+-----------+--------------------+-----------------+-----------------+-----------+---------+-----------------+-----------------+--------------+\n",
      "|Item_Identifier|Item_Weight|Item_Fat_Content|Item_Visibility|           Item_Type|Item_MRP|Outlet_Identifier|Outlet_Establishment_Year|Outlet_Size|Outlet_Location_Type|      Outlet_Type|Item_Outlet_Sales|   Category|City_Type|Variance_of_sales|  mean_comparison|Data_direction|\n",
      "+---------------+-----------+----------------+---------------+--------------------+--------+-----------------+-------------------------+-----------+--------------------+-----------------+-----------------+-----------+---------+-----------------+-----------------+--------------+\n",
      "|          FDP10|       12.6|         Low Fat|    0.127469857|         Snack Foods|107.7622|           OUT027|                     1985|     Medium|              Tier 3|Supermarket Type3|        4022.7637|    Healthy|  Village|          1841.47|greater_than_mean|   Left tailed|\n",
      "|          DRI11|       12.6|         Low Fat|    0.034237682|         Hard Drinks|113.2834|           OUT027|                     1985|     Medium|              Tier 3|Supermarket Type3|         2303.668|    Healthy|  Village|           122.38|greater_than_mean|   Left tailed|\n",
      "|          FDW12|       12.6|         Regular|    0.035399923|        Baking Goods|144.5444|           OUT027|                     1985|     Medium|              Tier 3|Supermarket Type3|        4064.0432|Not Healthy|  Village|          1882.75|greater_than_mean|   Left tailed|\n",
      "|          FDV20|       12.6|         Regular|    0.059511812|Fruits and Vegeta...|128.0678|           OUT027|                     1985|     Medium|              Tier 3|Supermarket Type3|        2797.6917|Not Healthy|  Village|            616.4|greater_than_mean|   Left tailed|\n",
      "|          FDX10|       12.6|         Regular|    0.123111453|         Snack Foods| 36.9874|           OUT027|                     1985|     Medium|              Tier 3|Supermarket Type3|         388.1614|Not Healthy|  Village|         -1793.13|   less_than_mean|   Left tailed|\n",
      "|          FDB34|       12.6|         Low Fat|    0.026480954|         Snack Foods| 87.6198|           OUT027|                     1985|     Medium|              Tier 3|Supermarket Type3|         2180.495|    Healthy|  Village|            -0.79|   less_than_mean|   Left tailed|\n",
      "|          FDF09|       12.6|         Low Fat|    0.012090074|Fruits and Vegeta...| 38.2848|           OUT027|                     1985|     Medium|              Tier 3|Supermarket Type3|         484.7024|    Healthy|  Village|         -1696.59|   less_than_mean|   Left tailed|\n",
      "|          FDY45|       12.6|         Low Fat|    0.026015519|         Snack Foods|255.8356|           OUT027|                     1985|     Medium|              Tier 3|Supermarket Type3|         2543.356|    Healthy|  Village|           362.07|greater_than_mean|   Left tailed|\n",
      "|          FDR12|       12.6|         Regular|    0.031382044|        Baking Goods|171.3764|           OUT027|                     1985|     Medium|              Tier 3|Supermarket Type3|         3091.975|Not Healthy|  Village|           910.69|greater_than_mean|   Left tailed|\n",
      "|          FDQ49|       12.6|         Regular|    0.039057677|           Breakfast| 155.963|           OUT027|                     1985|     Medium|              Tier 3|Supermarket Type3|         3285.723|Not Healthy|  Village|          1104.43|greater_than_mean|   Left tailed|\n",
      "|          NCP18|       12.6|         Low Fat|    0.028459761|           Household|149.9708|           OUT027|                     1985|     Medium|              Tier 3|Supermarket Type3|        4363.6533|    Healthy|  Village|          2182.36|greater_than_mean|  right tailed|\n",
      "|          FDD10|       12.6|         Regular|    0.045797829|         Snack Foods|178.5344|           OUT027|                     1985|     Medium|              Tier 3|Supermarket Type3|        2854.9504|Not Healthy|  Village|           673.66|greater_than_mean|   Left tailed|\n",
      "|          FDX34|       12.6|         Low Fat|    0.071636937|         Snack Foods|121.7098|           OUT027|                     1985|     Medium|              Tier 3|Supermarket Type3|         4097.333|    Healthy|  Village|          1916.04|greater_than_mean|   Left tailed|\n",
      "|          FDY25|       12.6|         Low Fat|    0.033809913|              Canned|180.5976|           OUT027|                     1985|     Medium|              Tier 3|Supermarket Type3|        7968.2944|    Healthy|  Village|          5787.01|greater_than_mean|  right tailed|\n",
      "|          NCR53|       12.6|         Low Fat|    0.144338493|  Health and Hygiene|224.4404|           OUT027|                     1985|     Medium|              Tier 3|Supermarket Type3|        6976.2524|    Healthy|  Village|          4794.96|greater_than_mean|  right tailed|\n",
      "|          FDH35|       12.6|         Low Fat|    0.059956876|       Starchy Foods|165.4526|           OUT027|                     1985|     Medium|              Tier 3|Supermarket Type3|        5262.4834|    Healthy|  Village|          3081.19|greater_than_mean|  right tailed|\n",
      "|          DRK12|       12.6|         Low Fat|    0.041683481|         Soft Drinks|   31.29|           OUT027|                     1985|     Medium|              Tier 3|Supermarket Type3|           898.83|    Healthy|  Village|         -1282.46|   less_than_mean|   Left tailed|\n",
      "|          FDR07|       12.6|         Low Fat|    0.077367431|Fruits and Vegeta...| 97.0094|           OUT027|                     1985|     Medium|              Tier 3|Supermarket Type3|        1808.9786|    Healthy|  Village|          -372.31|   less_than_mean|   Left tailed|\n",
      "|          NCB30|       12.6|         Low Fat|    0.025578526|           Household|198.8084|           OUT027|                     1985|     Medium|              Tier 3|Supermarket Type3|         5555.435|    Healthy|  Village|          3374.15|greater_than_mean|  right tailed|\n",
      "|          FDQ28|       12.6|         Regular|    0.060134441|        Frozen Foods|153.0656|           OUT027|                     1985|     Medium|              Tier 3|Supermarket Type3|         6024.158|Not Healthy|  Village|          3842.87|greater_than_mean|  right tailed|\n",
      "|          FDT12|       12.6|         Regular|    0.049381406|        Baking Goods|226.8062|           OUT027|                     1985|     Medium|              Tier 3|Supermarket Type3|          4739.83|Not Healthy|  Village|          2558.54|greater_than_mean|  right tailed|\n",
      "+---------------+-----------+----------------+---------------+--------------------+--------+-----------------+-------------------------+-----------+--------------------+-----------------+-----------------+-----------+---------+-----------------+-----------------+--------------+\n",
      "only showing top 21 rows\n",
      "\n"
     ]
    }
   ],
   "source": [
    "filter_by_weight.show(21)"
   ]
  },
  {
   "cell_type": "code",
   "execution_count": 13,
   "metadata": {},
   "outputs": [
    {
     "data": {
      "text/plain": [
       "8064"
      ]
     },
     "execution_count": 13,
     "metadata": {},
     "output_type": "execute_result"
    }
   ],
   "source": [
    "filter_by_weight.count()"
   ]
  },
  {
   "cell_type": "code",
   "execution_count": 14,
   "metadata": {},
   "outputs": [
    {
     "name": "stdout",
     "output_type": "stream",
     "text": [
      "+--------------------+-----------+\n",
      "|           Item_Type|Outlet_Size|\n",
      "+--------------------+-----------+\n",
      "|         Snack Foods|     Medium|\n",
      "|         Hard Drinks|     Medium|\n",
      "|        Baking Goods|     Medium|\n",
      "|Fruits and Vegeta...|     Medium|\n",
      "|         Snack Foods|     Medium|\n",
      "|         Snack Foods|     Medium|\n",
      "|        Baking Goods|     Medium|\n",
      "|           Breakfast|     Medium|\n",
      "|           Household|     Medium|\n",
      "|         Snack Foods|     Medium|\n",
      "|         Snack Foods|     Medium|\n",
      "|              Canned|     Medium|\n",
      "|  Health and Hygiene|     Medium|\n",
      "|       Starchy Foods|     Medium|\n",
      "|           Household|     Medium|\n",
      "|        Frozen Foods|     Medium|\n",
      "|        Baking Goods|     Medium|\n",
      "|           Household|     Medium|\n",
      "|               Dairy|     Medium|\n",
      "|              Canned|     Medium|\n",
      "|        Baking Goods|     Medium|\n",
      "|              Canned|     Medium|\n",
      "|           Household|     Medium|\n",
      "|             Seafood|     Medium|\n",
      "|         Hard Drinks|     Medium|\n",
      "|         Snack Foods|     Medium|\n",
      "|                Meat|     Medium|\n",
      "|         Snack Foods|     Medium|\n",
      "|           Household|     Medium|\n",
      "|           Breakfast|     Medium|\n",
      "|        Baking Goods|     Medium|\n",
      "|              Canned|     Medium|\n",
      "|Fruits and Vegeta...|     Medium|\n",
      "|         Hard Drinks|     Medium|\n",
      "|  Health and Hygiene|     Medium|\n",
      "|        Baking Goods|     Medium|\n",
      "|         Snack Foods|     Medium|\n",
      "|           Breakfast|     Medium|\n",
      "|              Canned|     Medium|\n",
      "|                Meat|     Medium|\n",
      "|Fruits and Vegeta...|     Medium|\n",
      "|Fruits and Vegeta...|     Medium|\n",
      "|         Snack Foods|     Medium|\n",
      "|         Hard Drinks|     Medium|\n",
      "|           Household|     Medium|\n",
      "|               Dairy|     Medium|\n",
      "|Fruits and Vegeta...|     Medium|\n",
      "|        Baking Goods|     Medium|\n",
      "|              Breads|     Medium|\n",
      "|Fruits and Vegeta...|     Medium|\n",
      "+--------------------+-----------+\n",
      "only showing top 50 rows\n",
      "\n"
     ]
    }
   ],
   "source": [
    "dataset.select('Item_Type','Outlet_Size').filter(\"Item_Outlet_Sales > 2000\").show(50)"
   ]
  },
  {
   "cell_type": "code",
   "execution_count": 15,
   "metadata": {},
   "outputs": [
    {
     "name": "stdout",
     "output_type": "stream",
     "text": [
      "+-------+---------------+------------------+----------------+--------------------+-------------+-----------------+-----------------+-------------------------+-----------+--------------------+-----------------+------------------+-----------+---------+--------------------+-----------------+--------------+\n",
      "|summary|Item_Identifier|       Item_Weight|Item_Fat_Content|     Item_Visibility|    Item_Type|         Item_MRP|Outlet_Identifier|Outlet_Establishment_Year|Outlet_Size|Outlet_Location_Type|      Outlet_Type| Item_Outlet_Sales|   Category|City_Type|   Variance_of_sales|  mean_comparison|Data_direction|\n",
      "+-------+---------------+------------------+----------------+--------------------+-------------+-----------------+-----------------+-------------------------+-----------+--------------------+-----------------+------------------+-----------+---------+--------------------+-----------------+--------------+\n",
      "|  count|           8523|              8523|            8523|                8523|         8523|             8523|             8523|                     8523|       8523|                8523|             8523|              8523|       8523|     8523|                8523|             8523|          8523|\n",
      "|   mean|           NULL|12.813419764553537|            NULL| 0.07021339065317383|         NULL|140.9927818804549|             NULL|       1997.8318667135984|       NULL|                NULL|             NULL| 2181.288914579888|       NULL|     NULL|2.065000587107672...|             NULL|          NULL|\n",
      "| stddev|           NULL| 4.227240492271024|            NULL|0.048741516050185334|         NULL| 62.2750663962414|             NULL|        8.371760408092676|       NULL|                NULL|             NULL|1706.4996158181946|       NULL|     NULL|  1706.4996719516328|             NULL|          NULL|\n",
      "|    min|          DRA12|             4.555|         Low Fat|         0.003574698| Baking Goods|            31.29|           OUT010|                     1985|       High|              Tier 1|Supermarket Type1|             33.29|    Healthy|    Metro|               -0.13|greater_than_mean|   Left tailed|\n",
      "|    max|          NCZ54|             21.35|         Regular|         0.328390948|Starchy Foods|         266.8884|           OUT049|                     2009|      Small|              Tier 3|Supermarket Type4|         13086.965|Not Healthy|  Village|              998.57|   less_than_mean|  right tailed|\n",
      "+-------+---------------+------------------+----------------+--------------------+-------------+-----------------+-----------------+-------------------------+-----------+--------------------+-----------------+------------------+-----------+---------+--------------------+-----------------+--------------+\n",
      "\n"
     ]
    }
   ],
   "source": [
    "dataset.describe().show()"
   ]
  },
  {
   "cell_type": "code",
   "execution_count": 16,
   "metadata": {},
   "outputs": [
    {
     "name": "stdout",
     "output_type": "stream",
     "text": [
      "+----------------+-----+\n",
      "|Item_Fat_Content|count|\n",
      "+----------------+-----+\n",
      "|         Low Fat| 5517|\n",
      "|         Regular| 3006|\n",
      "+----------------+-----+\n",
      "\n"
     ]
    }
   ],
   "source": [
    "dataset.groupby('Item_Fat_Content').count().show()"
   ]
  },
  {
   "cell_type": "code",
   "execution_count": 17,
   "metadata": {},
   "outputs": [],
   "source": [
    "# dataset.dropna('all').count()"
   ]
  },
  {
   "cell_type": "code",
   "execution_count": 18,
   "metadata": {},
   "outputs": [
    {
     "data": {
      "text/plain": [
       "8523"
      ]
     },
     "execution_count": 18,
     "metadata": {},
     "output_type": "execute_result"
    }
   ],
   "source": [
    "dataset.count()"
   ]
  },
  {
   "cell_type": "code",
   "execution_count": 19,
   "metadata": {},
   "outputs": [
    {
     "name": "stdout",
     "output_type": "stream",
     "text": [
      "+-------+---------------+------------------+----------------+--------------------+-------------+-----------------+-----------------+-------------------------+-----------+--------------------+-----------------+------------------+-----------+---------+--------------------+-----------------+--------------+\n",
      "|summary|Item_Identifier|       Item_Weight|Item_Fat_Content|     Item_Visibility|    Item_Type|         Item_MRP|Outlet_Identifier|Outlet_Establishment_Year|Outlet_Size|Outlet_Location_Type|      Outlet_Type| Item_Outlet_Sales|   Category|City_Type|   Variance_of_sales|  mean_comparison|Data_direction|\n",
      "+-------+---------------+------------------+----------------+--------------------+-------------+-----------------+-----------------+-------------------------+-----------+--------------------+-----------------+------------------+-----------+---------+--------------------+-----------------+--------------+\n",
      "|  count|           8523|              8523|            8523|                8523|         8523|             8523|             8523|                     8523|       8523|                8523|             8523|              8523|       8523|     8523|                8523|             8523|          8523|\n",
      "|   mean|           NULL|12.813419764553537|            NULL| 0.07021339065317383|         NULL|140.9927818804549|             NULL|       1997.8318667135984|       NULL|                NULL|             NULL| 2181.288914579888|       NULL|     NULL|2.065000587107672...|             NULL|          NULL|\n",
      "| stddev|           NULL| 4.227240492271024|            NULL|0.048741516050185334|         NULL| 62.2750663962414|             NULL|        8.371760408092676|       NULL|                NULL|             NULL|1706.4996158181946|       NULL|     NULL|  1706.4996719516328|             NULL|          NULL|\n",
      "|    min|          DRA12|             4.555|         Low Fat|         0.003574698| Baking Goods|            31.29|           OUT010|                     1985|       High|              Tier 1|Supermarket Type1|             33.29|    Healthy|    Metro|               -0.13|greater_than_mean|   Left tailed|\n",
      "|    max|          NCZ54|             21.35|         Regular|         0.328390948|Starchy Foods|         266.8884|           OUT049|                     2009|      Small|              Tier 3|Supermarket Type4|         13086.965|Not Healthy|  Village|              998.57|   less_than_mean|  right tailed|\n",
      "+-------+---------------+------------------+----------------+--------------------+-------------+-----------------+-----------------+-------------------------+-----------+--------------------+-----------------+------------------+-----------+---------+--------------------+-----------------+--------------+\n",
      "\n"
     ]
    }
   ],
   "source": [
    "dataset.describe().show()"
   ]
  },
  {
   "cell_type": "code",
   "execution_count": 20,
   "metadata": {},
   "outputs": [
    {
     "data": {
      "text/html": [
       "<div>\n",
       "<style scoped>\n",
       "    .dataframe tbody tr th:only-of-type {\n",
       "        vertical-align: middle;\n",
       "    }\n",
       "\n",
       "    .dataframe tbody tr th {\n",
       "        vertical-align: top;\n",
       "    }\n",
       "\n",
       "    .dataframe thead th {\n",
       "        text-align: right;\n",
       "    }\n",
       "</style>\n",
       "<table border=\"1\" class=\"dataframe\">\n",
       "  <thead>\n",
       "    <tr style=\"text-align: right;\">\n",
       "      <th></th>\n",
       "      <th>Item_Fat_Content</th>\n",
       "      <th>count</th>\n",
       "    </tr>\n",
       "  </thead>\n",
       "  <tbody>\n",
       "    <tr>\n",
       "      <th>0</th>\n",
       "      <td>Low Fat</td>\n",
       "      <td>5517</td>\n",
       "    </tr>\n",
       "    <tr>\n",
       "      <th>1</th>\n",
       "      <td>Regular</td>\n",
       "      <td>3006</td>\n",
       "    </tr>\n",
       "  </tbody>\n",
       "</table>\n",
       "</div>"
      ],
      "text/plain": [
       "  Item_Fat_Content  count\n",
       "0          Low Fat   5517\n",
       "1          Regular   3006"
      ]
     },
     "execution_count": 20,
     "metadata": {},
     "output_type": "execute_result"
    }
   ],
   "source": [
    "dataset.groupby('Item_Fat_Content').count().toPandas()"
   ]
  },
  {
   "cell_type": "code",
   "execution_count": 21,
   "metadata": {},
   "outputs": [
    {
     "name": "stdout",
     "output_type": "stream",
     "text": [
      "+----------------+-----------------+------------------+----------------------+\n",
      "|Item_Fat_Content|      Outlet_Type|     avg(Item_MRP)|avg(Item_Outlet_Sales)|\n",
      "+----------------+-----------------+------------------+----------------------+\n",
      "|         Low Fat|Supermarket Type3| 138.4701006613487|    3643.9465082341976|\n",
      "|         Low Fat|Supermarket Type2|141.88061356305278|    2008.8711346272241|\n",
      "|         Low Fat|Supermarket Type1|140.72770716127314|    2288.0356293845025|\n",
      "|         Low Fat|Supermarket Type4| 141.5806591331536|    341.39201943147265|\n",
      "|         Regular|Supermarket Type3| 142.2432228897557|     3785.873982654918|\n",
      "|         Regular|Supermarket Type4|137.89624885276513|    336.91241408655884|\n",
      "|         Regular|Supermarket Type2|141.31262228994657|    1971.2663408915203|\n",
      "|         Regular|Supermarket Type1| 142.1054834078967|    2367.7955709007697|\n",
      "+----------------+-----------------+------------------+----------------------+\n",
      "\n"
     ]
    }
   ],
   "source": [
    "dataset.groupby(['Item_Fat_Content','Outlet_Type']).agg({'Item_Outlet_Sales': 'mean','Item_MRP': \"mean\"}).show()"
   ]
  },
  {
   "cell_type": "code",
   "execution_count": 22,
   "metadata": {},
   "outputs": [
    {
     "data": {
      "text/html": [
       "<div>\n",
       "<style scoped>\n",
       "    .dataframe tbody tr th:only-of-type {\n",
       "        vertical-align: middle;\n",
       "    }\n",
       "\n",
       "    .dataframe tbody tr th {\n",
       "        vertical-align: top;\n",
       "    }\n",
       "\n",
       "    .dataframe thead th {\n",
       "        text-align: right;\n",
       "    }\n",
       "</style>\n",
       "<table border=\"1\" class=\"dataframe\">\n",
       "  <thead>\n",
       "    <tr style=\"text-align: right;\">\n",
       "      <th></th>\n",
       "      <th>Outlet_Type</th>\n",
       "      <th>avg(Item_MRP)</th>\n",
       "      <th>avg(Item_Outlet_Sales)</th>\n",
       "    </tr>\n",
       "    <tr>\n",
       "      <th>Item_Fat_Content</th>\n",
       "      <th></th>\n",
       "      <th></th>\n",
       "      <th></th>\n",
       "    </tr>\n",
       "  </thead>\n",
       "  <tbody>\n",
       "    <tr>\n",
       "      <th>Low Fat</th>\n",
       "      <td>Supermarket Type3</td>\n",
       "      <td>138.470101</td>\n",
       "      <td>3643.946508</td>\n",
       "    </tr>\n",
       "    <tr>\n",
       "      <th>Low Fat</th>\n",
       "      <td>Supermarket Type2</td>\n",
       "      <td>141.880614</td>\n",
       "      <td>2008.871135</td>\n",
       "    </tr>\n",
       "    <tr>\n",
       "      <th>Low Fat</th>\n",
       "      <td>Supermarket Type1</td>\n",
       "      <td>140.727707</td>\n",
       "      <td>2288.035629</td>\n",
       "    </tr>\n",
       "    <tr>\n",
       "      <th>Low Fat</th>\n",
       "      <td>Supermarket Type4</td>\n",
       "      <td>141.580659</td>\n",
       "      <td>341.392019</td>\n",
       "    </tr>\n",
       "    <tr>\n",
       "      <th>Regular</th>\n",
       "      <td>Supermarket Type3</td>\n",
       "      <td>142.243223</td>\n",
       "      <td>3785.873983</td>\n",
       "    </tr>\n",
       "    <tr>\n",
       "      <th>Regular</th>\n",
       "      <td>Supermarket Type4</td>\n",
       "      <td>137.896249</td>\n",
       "      <td>336.912414</td>\n",
       "    </tr>\n",
       "    <tr>\n",
       "      <th>Regular</th>\n",
       "      <td>Supermarket Type2</td>\n",
       "      <td>141.312622</td>\n",
       "      <td>1971.266341</td>\n",
       "    </tr>\n",
       "    <tr>\n",
       "      <th>Regular</th>\n",
       "      <td>Supermarket Type1</td>\n",
       "      <td>142.105483</td>\n",
       "      <td>2367.795571</td>\n",
       "    </tr>\n",
       "  </tbody>\n",
       "</table>\n",
       "</div>"
      ],
      "text/plain": [
       "                        Outlet_Type  avg(Item_MRP)  avg(Item_Outlet_Sales)\n",
       "Item_Fat_Content                                                          \n",
       "Low Fat           Supermarket Type3     138.470101             3643.946508\n",
       "Low Fat           Supermarket Type2     141.880614             2008.871135\n",
       "Low Fat           Supermarket Type1     140.727707             2288.035629\n",
       "Low Fat           Supermarket Type4     141.580659              341.392019\n",
       "Regular           Supermarket Type3     142.243223             3785.873983\n",
       "Regular           Supermarket Type4     137.896249              336.912414\n",
       "Regular           Supermarket Type2     141.312622             1971.266341\n",
       "Regular           Supermarket Type1     142.105483             2367.795571"
      ]
     },
     "execution_count": 22,
     "metadata": {},
     "output_type": "execute_result"
    }
   ],
   "source": [
    "dataset.groupby(['Item_Fat_Content','Outlet_Type']).agg({'Item_Outlet_Sales': 'mean','Item_MRP': \"mean\"}).toPandas().set_index('Item_Fat_Content')"
   ]
  },
  {
   "cell_type": "code",
   "execution_count": 23,
   "metadata": {},
   "outputs": [],
   "source": [
    "mean_value = dataset.select('Item_Outlet_Sales').agg({'Item_Outlet_Sales': 'mean'}).collect()[0][0]\n",
    "new_dataset = dataset.withColumn('reduced_to_mean', dataset.Item_Outlet_Sales / mean_value)"
   ]
  },
  {
   "cell_type": "code",
   "execution_count": 24,
   "metadata": {},
   "outputs": [
    {
     "name": "stdout",
     "output_type": "stream",
     "text": [
      "+---------------+-----------+----------------+---------------+--------------------+--------+-----------------+-------------------------+-----------+--------------------+-----------------+-----------------+-----------+---------+-----------------+-----------------+--------------+-------------------+\n",
      "|Item_Identifier|Item_Weight|Item_Fat_Content|Item_Visibility|           Item_Type|Item_MRP|Outlet_Identifier|Outlet_Establishment_Year|Outlet_Size|Outlet_Location_Type|      Outlet_Type|Item_Outlet_Sales|   Category|City_Type|Variance_of_sales|  mean_comparison|Data_direction|    reduced_to_mean|\n",
      "+---------------+-----------+----------------+---------------+--------------------+--------+-----------------+-------------------------+-----------+--------------------+-----------------+-----------------+-----------+---------+-----------------+-----------------+--------------+-------------------+\n",
      "|          FDP10|       12.6|         Low Fat|    0.127469857|         Snack Foods|107.7622|           OUT027|                     1985|     Medium|              Tier 3|Supermarket Type3|        4022.7637|    Healthy|  Village|          1841.47|greater_than_mean|   Left tailed|  1.844214053895642|\n",
      "|          DRI11|       12.6|         Low Fat|    0.034237682|         Hard Drinks|113.2834|           OUT027|                     1985|     Medium|              Tier 3|Supermarket Type3|         2303.668|    Healthy|  Village|           122.38|greater_than_mean|   Left tailed|  1.056104009584481|\n",
      "|          FDW12|       12.6|         Regular|    0.035399923|        Baking Goods|144.5444|           OUT027|                     1985|     Medium|              Tier 3|Supermarket Type3|        4064.0432|Not Healthy|  Village|          1882.75|greater_than_mean|   Left tailed|  1.863138434219454|\n",
      "|          FDV20|       12.6|         Regular|    0.059511812|Fruits and Vegeta...|128.0678|           OUT027|                     1985|     Medium|              Tier 3|Supermarket Type3|        2797.6917|Not Healthy|  Village|            616.4|greater_than_mean|   Left tailed| 1.2825864706369972|\n",
      "|          FDX10|       12.6|         Regular|    0.123111453|         Snack Foods| 36.9874|           OUT027|                     1985|     Medium|              Tier 3|Supermarket Type3|         388.1614|Not Healthy|  Village|         -1793.13|   less_than_mean|   Left tailed|0.17795047913011663|\n",
      "|          FDB34|       12.6|         Low Fat|    0.026480954|         Snack Foods| 87.6198|           OUT027|                     1985|     Medium|              Tier 3|Supermarket Type3|         2180.495|    Healthy|  Village|            -0.79|   less_than_mean|   Left tailed| 0.9996360879170648|\n",
      "|          FDF09|       12.6|         Low Fat|    0.012090074|Fruits and Vegeta...| 38.2848|           OUT027|                     1985|     Medium|              Tier 3|Supermarket Type3|         484.7024|    Healthy|  Village|         -1696.59|   less_than_mean|   Left tailed| 0.2222091669463592|\n",
      "|          FDY45|       12.6|         Low Fat|    0.026015519|         Snack Foods|255.8356|           OUT027|                     1985|     Medium|              Tier 3|Supermarket Type3|         2543.356|    Healthy|  Village|           362.07|greater_than_mean|   Left tailed|  1.165987659879111|\n",
      "|          FDR12|       12.6|         Regular|    0.031382044|        Baking Goods|171.3764|           OUT027|                     1985|     Medium|              Tier 3|Supermarket Type3|         3091.975|Not Healthy|  Village|           910.69|greater_than_mean|   Left tailed| 1.4174991111857176|\n",
      "|          FDQ49|       12.6|         Regular|    0.039057677|           Breakfast| 155.963|           OUT027|                     1985|     Medium|              Tier 3|Supermarket Type3|         3285.723|Not Healthy|  Village|          1104.43|greater_than_mean|   Left tailed| 1.5063217341034572|\n",
      "|          NCP18|       12.6|         Low Fat|    0.028459761|           Household|149.9708|           OUT027|                     1985|     Medium|              Tier 3|Supermarket Type3|        4363.6533|    Healthy|  Village|          2182.36|greater_than_mean|  right tailed| 2.0004930530502105|\n",
      "|          FDD10|       12.6|         Regular|    0.045797829|         Snack Foods|178.5344|           OUT027|                     1985|     Medium|              Tier 3|Supermarket Type3|        2854.9504|Not Healthy|  Village|           673.66|greater_than_mean|   Left tailed| 1.3088364500321052|\n",
      "|          FDX34|       12.6|         Low Fat|    0.071636937|         Snack Foods|121.7098|           OUT027|                     1985|     Medium|              Tier 3|Supermarket Type3|         4097.333|    Healthy|  Village|          1916.04|greater_than_mean|   Left tailed| 1.8783999590451492|\n",
      "|          FDY25|       12.6|         Low Fat|    0.033809913|              Canned|180.5976|           OUT027|                     1985|     Medium|              Tier 3|Supermarket Type3|        7968.2944|    Healthy|  Village|          5787.01|greater_than_mean|  right tailed|  3.653021101575821|\n",
      "|          NCR53|       12.6|         Low Fat|    0.144338493|  Health and Hygiene|224.4404|           OUT027|                     1985|     Medium|              Tier 3|Supermarket Type3|        6976.2524|    Healthy|  Village|          4794.96|greater_than_mean|  right tailed| 3.1982248636466677|\n",
      "|          FDH35|       12.6|         Low Fat|    0.059956876|       Starchy Foods|165.4526|           OUT027|                     1985|     Medium|              Tier 3|Supermarket Type3|        5262.4834|    Healthy|  Village|          3081.19|greater_than_mean|  right tailed| 2.4125567976175426|\n",
      "|          DRK12|       12.6|         Low Fat|    0.041683481|         Soft Drinks|   31.29|           OUT027|                     1985|     Medium|              Tier 3|Supermarket Type3|           898.83|    Healthy|  Village|         -1282.46|   less_than_mean|   Left tailed|0.41206371658609775|\n",
      "|          FDR07|       12.6|         Low Fat|    0.077367431|Fruits and Vegeta...| 97.0094|           OUT027|                     1985|     Medium|              Tier 3|Supermarket Type3|        1808.9786|    Healthy|  Village|          -372.31|   less_than_mean|   Left tailed| 0.8293163851904131|\n",
      "|          NCB30|       12.6|         Low Fat|    0.025578526|           Household|198.8084|           OUT027|                     1985|     Medium|              Tier 3|Supermarket Type3|         5555.435|    Healthy|  Village|          3374.15|greater_than_mean|  right tailed| 2.5468588876332854|\n",
      "|          FDQ28|       12.6|         Regular|    0.060134441|        Frozen Foods|153.0656|           OUT027|                     1985|     Medium|              Tier 3|Supermarket Type3|         6024.158|Not Healthy|  Village|          3842.87|greater_than_mean|  right tailed| 2.7617424555083483|\n",
      "+---------------+-----------+----------------+---------------+--------------------+--------+-----------------+-------------------------+-----------+--------------------+-----------------+-----------------+-----------+---------+-----------------+-----------------+--------------+-------------------+\n",
      "only showing top 20 rows\n",
      "\n"
     ]
    }
   ],
   "source": [
    "new_dataset.show()"
   ]
  },
  {
   "cell_type": "markdown",
   "metadata": {},
   "source": [
    "Null Values In the Dataframe"
   ]
  },
  {
   "cell_type": "code",
   "execution_count": 25,
   "metadata": {},
   "outputs": [
    {
     "name": "stdout",
     "output_type": "stream",
     "text": [
      "+---------------+-----------+----------------+---------------+---------+--------+-----------------+-------------------------+-----------+--------------------+-----------+-----------------+--------+---------+-----------------+---------------+--------------+\n",
      "|Item_Identifier|Item_Weight|Item_Fat_Content|Item_Visibility|Item_Type|Item_MRP|Outlet_Identifier|Outlet_Establishment_Year|Outlet_Size|Outlet_Location_Type|Outlet_Type|Item_Outlet_Sales|Category|City_Type|Variance_of_sales|mean_comparison|Data_direction|\n",
      "+---------------+-----------+----------------+---------------+---------+--------+-----------------+-------------------------+-----------+--------------------+-----------+-----------------+--------+---------+-----------------+---------------+--------------+\n",
      "|              0|          0|               0|              0|        0|       0|                0|                        0|          0|                   0|          0|                0|       0|        0|                0|              0|             0|\n",
      "+---------------+-----------+----------------+---------------+---------+--------+-----------------+-------------------------+-----------+--------------------+-----------+-----------------+--------+---------+-----------------+---------------+--------------+\n",
      "\n"
     ]
    }
   ],
   "source": [
    "null_values = dataset.select([count(when(col(c).isNull(),c)).alias(c) for c in dataset.columns])\n",
    "null_values.show()"
   ]
  },
  {
   "cell_type": "code",
   "execution_count": 26,
   "metadata": {},
   "outputs": [
    {
     "data": {
      "text/plain": [
       "['Item_Identifier',\n",
       " 'Item_Weight',\n",
       " 'Item_Fat_Content',\n",
       " 'Item_Visibility',\n",
       " 'Item_Type',\n",
       " 'Item_MRP',\n",
       " 'Outlet_Identifier',\n",
       " 'Outlet_Establishment_Year',\n",
       " 'Outlet_Size',\n",
       " 'Outlet_Location_Type',\n",
       " 'Outlet_Type',\n",
       " 'Item_Outlet_Sales',\n",
       " 'Category',\n",
       " 'City_Type',\n",
       " 'Variance_of_sales',\n",
       " 'mean_comparison',\n",
       " 'Data_direction']"
      ]
     },
     "execution_count": 26,
     "metadata": {},
     "output_type": "execute_result"
    }
   ],
   "source": [
    "dataset.columns"
   ]
  },
  {
   "cell_type": "code",
   "execution_count": 27,
   "metadata": {},
   "outputs": [],
   "source": [
    "new_dataset = dataset.select(\"Item_Weight\",\"Item_Type\",\"Outlet_Size\",\"Item_MRP\",\"Item_Outlet_Sales\")"
   ]
  },
  {
   "cell_type": "code",
   "execution_count": 28,
   "metadata": {},
   "outputs": [
    {
     "name": "stdout",
     "output_type": "stream",
     "text": [
      "+-----------+--------------------+-----------+--------+-----------------+\n",
      "|Item_Weight|           Item_Type|Outlet_Size|Item_MRP|Item_Outlet_Sales|\n",
      "+-----------+--------------------+-----------+--------+-----------------+\n",
      "|       12.6|         Snack Foods|     Medium|107.7622|        4022.7637|\n",
      "|       12.6|         Hard Drinks|     Medium|113.2834|         2303.668|\n",
      "|       12.6|        Baking Goods|     Medium|144.5444|        4064.0432|\n",
      "|       12.6|Fruits and Vegeta...|     Medium|128.0678|        2797.6917|\n",
      "|       12.6|         Snack Foods|     Medium| 36.9874|         388.1614|\n",
      "|       12.6|         Snack Foods|     Medium| 87.6198|         2180.495|\n",
      "|       12.6|Fruits and Vegeta...|     Medium| 38.2848|         484.7024|\n",
      "|       12.6|         Snack Foods|     Medium|255.8356|         2543.356|\n",
      "|       12.6|        Baking Goods|     Medium|171.3764|         3091.975|\n",
      "|       12.6|           Breakfast|     Medium| 155.963|         3285.723|\n",
      "|       12.6|           Household|     Medium|149.9708|        4363.6533|\n",
      "|       12.6|         Snack Foods|     Medium|178.5344|        2854.9504|\n",
      "|       12.6|         Snack Foods|     Medium|121.7098|         4097.333|\n",
      "|       12.6|              Canned|     Medium|180.5976|        7968.2944|\n",
      "|       12.6|  Health and Hygiene|     Medium|224.4404|        6976.2524|\n",
      "|       12.6|       Starchy Foods|     Medium|165.4526|        5262.4834|\n",
      "|       12.6|         Soft Drinks|     Medium|   31.29|           898.83|\n",
      "|       12.6|Fruits and Vegeta...|     Medium| 97.0094|        1808.9786|\n",
      "|       12.6|           Household|     Medium|198.8084|         5555.435|\n",
      "|       12.6|        Frozen Foods|     Medium|153.0656|         6024.158|\n",
      "+-----------+--------------------+-----------+--------+-----------------+\n",
      "only showing top 20 rows\n",
      "\n"
     ]
    }
   ],
   "source": [
    "new_dataset.show()"
   ]
  },
  {
   "cell_type": "code",
   "execution_count": 29,
   "metadata": {},
   "outputs": [],
   "source": [
    "independent_features = new_dataset.drop(\"Item_Outlet_Sales\")"
   ]
  },
  {
   "cell_type": "code",
   "execution_count": 30,
   "metadata": {},
   "outputs": [
    {
     "name": "stdout",
     "output_type": "stream",
     "text": [
      "+-----------+--------------------+-----------+--------+\n",
      "|Item_Weight|           Item_Type|Outlet_Size|Item_MRP|\n",
      "+-----------+--------------------+-----------+--------+\n",
      "|       12.6|         Snack Foods|     Medium|107.7622|\n",
      "|       12.6|         Hard Drinks|     Medium|113.2834|\n",
      "|       12.6|        Baking Goods|     Medium|144.5444|\n",
      "|       12.6|Fruits and Vegeta...|     Medium|128.0678|\n",
      "|       12.6|         Snack Foods|     Medium| 36.9874|\n",
      "|       12.6|         Snack Foods|     Medium| 87.6198|\n",
      "|       12.6|Fruits and Vegeta...|     Medium| 38.2848|\n",
      "|       12.6|         Snack Foods|     Medium|255.8356|\n",
      "|       12.6|        Baking Goods|     Medium|171.3764|\n",
      "|       12.6|           Breakfast|     Medium| 155.963|\n",
      "|       12.6|           Household|     Medium|149.9708|\n",
      "|       12.6|         Snack Foods|     Medium|178.5344|\n",
      "|       12.6|         Snack Foods|     Medium|121.7098|\n",
      "|       12.6|              Canned|     Medium|180.5976|\n",
      "|       12.6|  Health and Hygiene|     Medium|224.4404|\n",
      "|       12.6|       Starchy Foods|     Medium|165.4526|\n",
      "|       12.6|         Soft Drinks|     Medium|   31.29|\n",
      "|       12.6|Fruits and Vegeta...|     Medium| 97.0094|\n",
      "|       12.6|           Household|     Medium|198.8084|\n",
      "|       12.6|        Frozen Foods|     Medium|153.0656|\n",
      "+-----------+--------------------+-----------+--------+\n",
      "only showing top 20 rows\n",
      "\n"
     ]
    }
   ],
   "source": [
    "independent_features.show()"
   ]
  },
  {
   "cell_type": "code",
   "execution_count": 31,
   "metadata": {},
   "outputs": [
    {
     "name": "stdout",
     "output_type": "stream",
     "text": [
      "root\n",
      " |-- Item_Weight: float (nullable = true)\n",
      " |-- Item_Type: string (nullable = true)\n",
      " |-- Outlet_Size: string (nullable = true)\n",
      " |-- Item_MRP: float (nullable = true)\n",
      " |-- Item_Outlet_Sales: float (nullable = true)\n",
      "\n"
     ]
    }
   ],
   "source": [
    "new_dataset.printSchema()"
   ]
  },
  {
   "cell_type": "code",
   "execution_count": 32,
   "metadata": {},
   "outputs": [
    {
     "name": "stdout",
     "output_type": "stream",
     "text": [
      "root\n",
      " |-- Item_Weight: float (nullable = true)\n",
      " |-- Item_Type: string (nullable = true)\n",
      " |-- Outlet_Size: string (nullable = true)\n",
      " |-- Item_MRP: float (nullable = true)\n",
      " |-- Item_Outlet_Sales: float (nullable = true)\n",
      "\n"
     ]
    }
   ],
   "source": [
    "new_dataset.printSchema()"
   ]
  },
  {
   "cell_type": "code",
   "execution_count": 33,
   "metadata": {},
   "outputs": [],
   "source": [
    "string_columns = [col_name for col_name, col_type in new_dataset.dtypes if col_type == \"string\"]"
   ]
  },
  {
   "cell_type": "code",
   "execution_count": 34,
   "metadata": {},
   "outputs": [
    {
     "name": "stdout",
     "output_type": "stream",
     "text": [
      "+-----------+--------------------+-----------+--------+-----------------+---------------+-----------------+-----------------+-------------------+\n",
      "|Item_Weight|           Item_Type|Outlet_Size|Item_MRP|Item_Outlet_Sales|Item_Type_index|Item_Type_encoded|Outlet_Size_index|Outlet_Size_encoded|\n",
      "+-----------+--------------------+-----------+--------+-----------------+---------------+-----------------+-----------------+-------------------+\n",
      "|       12.6|         Snack Foods|     Medium|107.7622|        4022.7637|            1.0|   (15,[1],[1.0])|              0.0|      (2,[0],[1.0])|\n",
      "|       12.6|         Hard Drinks|     Medium|113.2834|         2303.668|           11.0|  (15,[11],[1.0])|              0.0|      (2,[0],[1.0])|\n",
      "|       12.6|        Baking Goods|     Medium|144.5444|        4064.0432|            6.0|   (15,[6],[1.0])|              0.0|      (2,[0],[1.0])|\n",
      "|       12.6|Fruits and Vegeta...|     Medium|128.0678|        2797.6917|            0.0|   (15,[0],[1.0])|              0.0|      (2,[0],[1.0])|\n",
      "|       12.6|         Snack Foods|     Medium| 36.9874|         388.1614|            1.0|   (15,[1],[1.0])|              0.0|      (2,[0],[1.0])|\n",
      "|       12.6|         Snack Foods|     Medium| 87.6198|         2180.495|            1.0|   (15,[1],[1.0])|              0.0|      (2,[0],[1.0])|\n",
      "|       12.6|Fruits and Vegeta...|     Medium| 38.2848|         484.7024|            0.0|   (15,[0],[1.0])|              0.0|      (2,[0],[1.0])|\n",
      "|       12.6|         Snack Foods|     Medium|255.8356|         2543.356|            1.0|   (15,[1],[1.0])|              0.0|      (2,[0],[1.0])|\n",
      "|       12.6|        Baking Goods|     Medium|171.3764|         3091.975|            6.0|   (15,[6],[1.0])|              0.0|      (2,[0],[1.0])|\n",
      "|       12.6|           Breakfast|     Medium| 155.963|         3285.723|           14.0|  (15,[14],[1.0])|              0.0|      (2,[0],[1.0])|\n",
      "|       12.6|           Household|     Medium|149.9708|        4363.6533|            2.0|   (15,[2],[1.0])|              0.0|      (2,[0],[1.0])|\n",
      "|       12.6|         Snack Foods|     Medium|178.5344|        2854.9504|            1.0|   (15,[1],[1.0])|              0.0|      (2,[0],[1.0])|\n",
      "|       12.6|         Snack Foods|     Medium|121.7098|         4097.333|            1.0|   (15,[1],[1.0])|              0.0|      (2,[0],[1.0])|\n",
      "|       12.6|              Canned|     Medium|180.5976|        7968.2944|            5.0|   (15,[5],[1.0])|              0.0|      (2,[0],[1.0])|\n",
      "|       12.6|  Health and Hygiene|     Medium|224.4404|        6976.2524|            7.0|   (15,[7],[1.0])|              0.0|      (2,[0],[1.0])|\n",
      "|       12.6|       Starchy Foods|     Medium|165.4526|        5262.4834|           13.0|  (15,[13],[1.0])|              0.0|      (2,[0],[1.0])|\n",
      "|       12.6|         Soft Drinks|     Medium|   31.29|           898.83|            8.0|   (15,[8],[1.0])|              0.0|      (2,[0],[1.0])|\n",
      "|       12.6|Fruits and Vegeta...|     Medium| 97.0094|        1808.9786|            0.0|   (15,[0],[1.0])|              0.0|      (2,[0],[1.0])|\n",
      "|       12.6|           Household|     Medium|198.8084|         5555.435|            2.0|   (15,[2],[1.0])|              0.0|      (2,[0],[1.0])|\n",
      "|       12.6|        Frozen Foods|     Medium|153.0656|         6024.158|            3.0|   (15,[3],[1.0])|              0.0|      (2,[0],[1.0])|\n",
      "+-----------+--------------------+-----------+--------+-----------------+---------------+-----------------+-----------------+-------------------+\n",
      "only showing top 20 rows\n",
      "\n"
     ]
    }
   ],
   "source": [
    "stages = []\n",
    "\n",
    "for col in string_columns:\n",
    "   \n",
    "    string_indexer = StringIndexer(inputCol=col, outputCol=col + \"_index\")\n",
    "    one_hot_encoder = OneHotEncoder(inputCol=col + \"_index\", outputCol=col + \"_encoded\")\n",
    "    stages += [string_indexer, one_hot_encoder]\n",
    "\n",
    "pipeline = Pipeline(stages=stages)\n",
    "pipeline_model = pipeline.fit(new_dataset)\n",
    "transformed_df = pipeline_model.transform(new_dataset)\n",
    "transformed_df.show()"
   ]
  },
  {
   "cell_type": "code",
   "execution_count": 35,
   "metadata": {},
   "outputs": [],
   "source": [
    "final_dataframe = transformed_df.drop('Item_Type','Outlet_Size','Item_Type_index','Outlet_Size_index')"
   ]
  },
  {
   "cell_type": "code",
   "execution_count": 36,
   "metadata": {},
   "outputs": [
    {
     "name": "stdout",
     "output_type": "stream",
     "text": [
      "+-----------+--------+-----------------+-----------------+-------------------+\n",
      "|Item_Weight|Item_MRP|Item_Outlet_Sales|Item_Type_encoded|Outlet_Size_encoded|\n",
      "+-----------+--------+-----------------+-----------------+-------------------+\n",
      "|       12.6|107.7622|        4022.7637|   (15,[1],[1.0])|      (2,[0],[1.0])|\n",
      "|       12.6|113.2834|         2303.668|  (15,[11],[1.0])|      (2,[0],[1.0])|\n",
      "|       12.6|144.5444|        4064.0432|   (15,[6],[1.0])|      (2,[0],[1.0])|\n",
      "|       12.6|128.0678|        2797.6917|   (15,[0],[1.0])|      (2,[0],[1.0])|\n",
      "|       12.6| 36.9874|         388.1614|   (15,[1],[1.0])|      (2,[0],[1.0])|\n",
      "|       12.6| 87.6198|         2180.495|   (15,[1],[1.0])|      (2,[0],[1.0])|\n",
      "|       12.6| 38.2848|         484.7024|   (15,[0],[1.0])|      (2,[0],[1.0])|\n",
      "|       12.6|255.8356|         2543.356|   (15,[1],[1.0])|      (2,[0],[1.0])|\n",
      "|       12.6|171.3764|         3091.975|   (15,[6],[1.0])|      (2,[0],[1.0])|\n",
      "|       12.6| 155.963|         3285.723|  (15,[14],[1.0])|      (2,[0],[1.0])|\n",
      "|       12.6|149.9708|        4363.6533|   (15,[2],[1.0])|      (2,[0],[1.0])|\n",
      "|       12.6|178.5344|        2854.9504|   (15,[1],[1.0])|      (2,[0],[1.0])|\n",
      "|       12.6|121.7098|         4097.333|   (15,[1],[1.0])|      (2,[0],[1.0])|\n",
      "|       12.6|180.5976|        7968.2944|   (15,[5],[1.0])|      (2,[0],[1.0])|\n",
      "|       12.6|224.4404|        6976.2524|   (15,[7],[1.0])|      (2,[0],[1.0])|\n",
      "|       12.6|165.4526|        5262.4834|  (15,[13],[1.0])|      (2,[0],[1.0])|\n",
      "|       12.6|   31.29|           898.83|   (15,[8],[1.0])|      (2,[0],[1.0])|\n",
      "|       12.6| 97.0094|        1808.9786|   (15,[0],[1.0])|      (2,[0],[1.0])|\n",
      "|       12.6|198.8084|         5555.435|   (15,[2],[1.0])|      (2,[0],[1.0])|\n",
      "|       12.6|153.0656|         6024.158|   (15,[3],[1.0])|      (2,[0],[1.0])|\n",
      "+-----------+--------+-----------------+-----------------+-------------------+\n",
      "only showing top 20 rows\n",
      "\n"
     ]
    }
   ],
   "source": [
    "final_dataframe.show()"
   ]
  },
  {
   "cell_type": "code",
   "execution_count": 37,
   "metadata": {},
   "outputs": [],
   "source": [
    "x = final_dataframe.drop('Item_Outlet_Sales')"
   ]
  },
  {
   "cell_type": "code",
   "execution_count": 38,
   "metadata": {},
   "outputs": [
    {
     "name": "stdout",
     "output_type": "stream",
     "text": [
      "+-----------+--------+-----------------+-------------------+\n",
      "|Item_Weight|Item_MRP|Item_Type_encoded|Outlet_Size_encoded|\n",
      "+-----------+--------+-----------------+-------------------+\n",
      "|       12.6|107.7622|   (15,[1],[1.0])|      (2,[0],[1.0])|\n",
      "|       12.6|113.2834|  (15,[11],[1.0])|      (2,[0],[1.0])|\n",
      "|       12.6|144.5444|   (15,[6],[1.0])|      (2,[0],[1.0])|\n",
      "|       12.6|128.0678|   (15,[0],[1.0])|      (2,[0],[1.0])|\n",
      "|       12.6| 36.9874|   (15,[1],[1.0])|      (2,[0],[1.0])|\n",
      "|       12.6| 87.6198|   (15,[1],[1.0])|      (2,[0],[1.0])|\n",
      "|       12.6| 38.2848|   (15,[0],[1.0])|      (2,[0],[1.0])|\n",
      "|       12.6|255.8356|   (15,[1],[1.0])|      (2,[0],[1.0])|\n",
      "|       12.6|171.3764|   (15,[6],[1.0])|      (2,[0],[1.0])|\n",
      "|       12.6| 155.963|  (15,[14],[1.0])|      (2,[0],[1.0])|\n",
      "|       12.6|149.9708|   (15,[2],[1.0])|      (2,[0],[1.0])|\n",
      "|       12.6|178.5344|   (15,[1],[1.0])|      (2,[0],[1.0])|\n",
      "|       12.6|121.7098|   (15,[1],[1.0])|      (2,[0],[1.0])|\n",
      "|       12.6|180.5976|   (15,[5],[1.0])|      (2,[0],[1.0])|\n",
      "|       12.6|224.4404|   (15,[7],[1.0])|      (2,[0],[1.0])|\n",
      "|       12.6|165.4526|  (15,[13],[1.0])|      (2,[0],[1.0])|\n",
      "|       12.6|   31.29|   (15,[8],[1.0])|      (2,[0],[1.0])|\n",
      "|       12.6| 97.0094|   (15,[0],[1.0])|      (2,[0],[1.0])|\n",
      "|       12.6|198.8084|   (15,[2],[1.0])|      (2,[0],[1.0])|\n",
      "|       12.6|153.0656|   (15,[3],[1.0])|      (2,[0],[1.0])|\n",
      "+-----------+--------+-----------------+-------------------+\n",
      "only showing top 20 rows\n",
      "\n"
     ]
    }
   ],
   "source": [
    "x.show()"
   ]
  },
  {
   "cell_type": "code",
   "execution_count": 39,
   "metadata": {},
   "outputs": [],
   "source": [
    "assembler = VectorAssembler(inputCols=x.columns, outputCol=\"features\")\n",
    "output = assembler.transform(final_dataframe)\n"
   ]
  },
  {
   "cell_type": "code",
   "execution_count": 40,
   "metadata": {},
   "outputs": [
    {
     "name": "stdout",
     "output_type": "stream",
     "text": [
      "+-----------+--------+-----------------+-----------------+-------------------+--------------------+\n",
      "|Item_Weight|Item_MRP|Item_Outlet_Sales|Item_Type_encoded|Outlet_Size_encoded|            features|\n",
      "+-----------+--------+-----------------+-----------------+-------------------+--------------------+\n",
      "|       12.6|107.7622|        4022.7637|   (15,[1],[1.0])|      (2,[0],[1.0])|(19,[0,1,3,17],[1...|\n",
      "|       12.6|113.2834|         2303.668|  (15,[11],[1.0])|      (2,[0],[1.0])|(19,[0,1,13,17],[...|\n",
      "|       12.6|144.5444|        4064.0432|   (15,[6],[1.0])|      (2,[0],[1.0])|(19,[0,1,8,17],[1...|\n",
      "|       12.6|128.0678|        2797.6917|   (15,[0],[1.0])|      (2,[0],[1.0])|(19,[0,1,2,17],[1...|\n",
      "|       12.6| 36.9874|         388.1614|   (15,[1],[1.0])|      (2,[0],[1.0])|(19,[0,1,3,17],[1...|\n",
      "|       12.6| 87.6198|         2180.495|   (15,[1],[1.0])|      (2,[0],[1.0])|(19,[0,1,3,17],[1...|\n",
      "|       12.6| 38.2848|         484.7024|   (15,[0],[1.0])|      (2,[0],[1.0])|(19,[0,1,2,17],[1...|\n",
      "|       12.6|255.8356|         2543.356|   (15,[1],[1.0])|      (2,[0],[1.0])|(19,[0,1,3,17],[1...|\n",
      "|       12.6|171.3764|         3091.975|   (15,[6],[1.0])|      (2,[0],[1.0])|(19,[0,1,8,17],[1...|\n",
      "|       12.6| 155.963|         3285.723|  (15,[14],[1.0])|      (2,[0],[1.0])|(19,[0,1,16,17],[...|\n",
      "|       12.6|149.9708|        4363.6533|   (15,[2],[1.0])|      (2,[0],[1.0])|(19,[0,1,4,17],[1...|\n",
      "|       12.6|178.5344|        2854.9504|   (15,[1],[1.0])|      (2,[0],[1.0])|(19,[0,1,3,17],[1...|\n",
      "|       12.6|121.7098|         4097.333|   (15,[1],[1.0])|      (2,[0],[1.0])|(19,[0,1,3,17],[1...|\n",
      "|       12.6|180.5976|        7968.2944|   (15,[5],[1.0])|      (2,[0],[1.0])|(19,[0,1,7,17],[1...|\n",
      "|       12.6|224.4404|        6976.2524|   (15,[7],[1.0])|      (2,[0],[1.0])|(19,[0,1,9,17],[1...|\n",
      "|       12.6|165.4526|        5262.4834|  (15,[13],[1.0])|      (2,[0],[1.0])|(19,[0,1,15,17],[...|\n",
      "|       12.6|   31.29|           898.83|   (15,[8],[1.0])|      (2,[0],[1.0])|(19,[0,1,10,17],[...|\n",
      "|       12.6| 97.0094|        1808.9786|   (15,[0],[1.0])|      (2,[0],[1.0])|(19,[0,1,2,17],[1...|\n",
      "|       12.6|198.8084|         5555.435|   (15,[2],[1.0])|      (2,[0],[1.0])|(19,[0,1,4,17],[1...|\n",
      "|       12.6|153.0656|         6024.158|   (15,[3],[1.0])|      (2,[0],[1.0])|(19,[0,1,5,17],[1...|\n",
      "+-----------+--------+-----------------+-----------------+-------------------+--------------------+\n",
      "only showing top 20 rows\n",
      "\n"
     ]
    }
   ],
   "source": [
    "output.show()"
   ]
  },
  {
   "cell_type": "code",
   "execution_count": 41,
   "metadata": {},
   "outputs": [],
   "source": [
    "df = output.select('features','Item_Outlet_Sales')"
   ]
  },
  {
   "cell_type": "code",
   "execution_count": 42,
   "metadata": {},
   "outputs": [
    {
     "name": "stdout",
     "output_type": "stream",
     "text": [
      "+--------------------+-----------------+\n",
      "|            features|Item_Outlet_Sales|\n",
      "+--------------------+-----------------+\n",
      "|(19,[0,1,3,17],[1...|        4022.7637|\n",
      "|(19,[0,1,13,17],[...|         2303.668|\n",
      "|(19,[0,1,8,17],[1...|        4064.0432|\n",
      "|(19,[0,1,2,17],[1...|        2797.6917|\n",
      "|(19,[0,1,3,17],[1...|         388.1614|\n",
      "|(19,[0,1,3,17],[1...|         2180.495|\n",
      "|(19,[0,1,2,17],[1...|         484.7024|\n",
      "|(19,[0,1,3,17],[1...|         2543.356|\n",
      "|(19,[0,1,8,17],[1...|         3091.975|\n",
      "|(19,[0,1,16,17],[...|         3285.723|\n",
      "|(19,[0,1,4,17],[1...|        4363.6533|\n",
      "|(19,[0,1,3,17],[1...|        2854.9504|\n",
      "|(19,[0,1,3,17],[1...|         4097.333|\n",
      "|(19,[0,1,7,17],[1...|        7968.2944|\n",
      "|(19,[0,1,9,17],[1...|        6976.2524|\n",
      "|(19,[0,1,15,17],[...|        5262.4834|\n",
      "|(19,[0,1,10,17],[...|           898.83|\n",
      "|(19,[0,1,2,17],[1...|        1808.9786|\n",
      "|(19,[0,1,4,17],[1...|         5555.435|\n",
      "|(19,[0,1,5,17],[1...|         6024.158|\n",
      "+--------------------+-----------------+\n",
      "only showing top 20 rows\n",
      "\n"
     ]
    }
   ],
   "source": [
    "df.show()"
   ]
  },
  {
   "cell_type": "code",
   "execution_count": 43,
   "metadata": {},
   "outputs": [],
   "source": [
    "scaler = MinMaxScaler(inputCol=\"features\", outputCol=\"scaledFeatures\")\n",
    "scalerModel = scaler.fit(df)\n",
    "scaledData = scalerModel.transform(df)"
   ]
  },
  {
   "cell_type": "code",
   "execution_count": 44,
   "metadata": {},
   "outputs": [
    {
     "name": "stdout",
     "output_type": "stream",
     "text": [
      "+--------------------+-----------------+--------------------+\n",
      "|            features|Item_Outlet_Sales|      scaledFeatures|\n",
      "+--------------------+-----------------+--------------------+\n",
      "|(19,[0,1,3,17],[1...|        4022.7637|(19,[0,1,3,17],[0...|\n",
      "|(19,[0,1,13,17],[...|         2303.668|(19,[0,1,13,17],[...|\n",
      "|(19,[0,1,8,17],[1...|        4064.0432|(19,[0,1,8,17],[0...|\n",
      "|(19,[0,1,2,17],[1...|        2797.6917|(19,[0,1,2,17],[0...|\n",
      "|(19,[0,1,3,17],[1...|         388.1614|(19,[0,1,3,17],[0...|\n",
      "|(19,[0,1,3,17],[1...|         2180.495|(19,[0,1,3,17],[0...|\n",
      "|(19,[0,1,2,17],[1...|         484.7024|(19,[0,1,2,17],[0...|\n",
      "|(19,[0,1,3,17],[1...|         2543.356|(19,[0,1,3,17],[0...|\n",
      "|(19,[0,1,8,17],[1...|         3091.975|(19,[0,1,8,17],[0...|\n",
      "|(19,[0,1,16,17],[...|         3285.723|(19,[0,1,16,17],[...|\n",
      "|(19,[0,1,4,17],[1...|        4363.6533|(19,[0,1,4,17],[0...|\n",
      "|(19,[0,1,3,17],[1...|        2854.9504|(19,[0,1,3,17],[0...|\n",
      "|(19,[0,1,3,17],[1...|         4097.333|(19,[0,1,3,17],[0...|\n",
      "|(19,[0,1,7,17],[1...|        7968.2944|(19,[0,1,7,17],[0...|\n",
      "|(19,[0,1,9,17],[1...|        6976.2524|(19,[0,1,9,17],[0...|\n",
      "|(19,[0,1,15,17],[...|        5262.4834|(19,[0,1,15,17],[...|\n",
      "|(19,[0,1,10,17],[...|           898.83|(19,[0,10,17],[0....|\n",
      "|(19,[0,1,2,17],[1...|        1808.9786|(19,[0,1,2,17],[0...|\n",
      "|(19,[0,1,4,17],[1...|         5555.435|(19,[0,1,4,17],[0...|\n",
      "|(19,[0,1,5,17],[1...|         6024.158|(19,[0,1,5,17],[0...|\n",
      "+--------------------+-----------------+--------------------+\n",
      "only showing top 20 rows\n",
      "\n"
     ]
    }
   ],
   "source": [
    "scaledData.show()"
   ]
  },
  {
   "cell_type": "code",
   "execution_count": 45,
   "metadata": {},
   "outputs": [],
   "source": [
    "scaledData = scaledData.drop('features')"
   ]
  },
  {
   "cell_type": "code",
   "execution_count": 46,
   "metadata": {},
   "outputs": [
    {
     "name": "stdout",
     "output_type": "stream",
     "text": [
      "+-----------------+--------------------+\n",
      "|Item_Outlet_Sales|      scaledFeatures|\n",
      "+-----------------+--------------------+\n",
      "|        4022.7637|(19,[0,1,3,17],[0...|\n",
      "|         2303.668|(19,[0,1,13,17],[...|\n",
      "|        4064.0432|(19,[0,1,8,17],[0...|\n",
      "|        2797.6917|(19,[0,1,2,17],[0...|\n",
      "|         388.1614|(19,[0,1,3,17],[0...|\n",
      "|         2180.495|(19,[0,1,3,17],[0...|\n",
      "|         484.7024|(19,[0,1,2,17],[0...|\n",
      "|         2543.356|(19,[0,1,3,17],[0...|\n",
      "|         3091.975|(19,[0,1,8,17],[0...|\n",
      "|         3285.723|(19,[0,1,16,17],[...|\n",
      "|        4363.6533|(19,[0,1,4,17],[0...|\n",
      "|        2854.9504|(19,[0,1,3,17],[0...|\n",
      "|         4097.333|(19,[0,1,3,17],[0...|\n",
      "|        7968.2944|(19,[0,1,7,17],[0...|\n",
      "|        6976.2524|(19,[0,1,9,17],[0...|\n",
      "|        5262.4834|(19,[0,1,15,17],[...|\n",
      "|           898.83|(19,[0,10,17],[0....|\n",
      "|        1808.9786|(19,[0,1,2,17],[0...|\n",
      "|         5555.435|(19,[0,1,4,17],[0...|\n",
      "|         6024.158|(19,[0,1,5,17],[0...|\n",
      "+-----------------+--------------------+\n",
      "only showing top 20 rows\n",
      "\n"
     ]
    }
   ],
   "source": [
    "scaledData.show()"
   ]
  },
  {
   "cell_type": "code",
   "execution_count": 51,
   "metadata": {},
   "outputs": [],
   "source": [
    "train,test = scaledData.randomSplit([0.80,0.20])"
   ]
  },
  {
   "cell_type": "code",
   "execution_count": 52,
   "metadata": {},
   "outputs": [
    {
     "name": "stdout",
     "output_type": "stream",
     "text": [
      "+-----------------+--------------------+\n",
      "|Item_Outlet_Sales|      scaledFeatures|\n",
      "+-----------------+--------------------+\n",
      "|            33.29|(19,[0,1,4,17],[0...|\n",
      "|            33.29|(19,[0,1,10,17],[...|\n",
      "|          33.9558|(19,[0,1,3,18],[0...|\n",
      "|          34.6216|(19,[0,1,9,18],[0...|\n",
      "|          35.2874|(19,[0,1,12,17],[...|\n",
      "|           36.619|(19,[0,1,5,18],[0...|\n",
      "|          37.2848|(19,[0,1,8,18],[0...|\n",
      "|          37.9506|(19,[0,1,5,18],[0...|\n",
      "|          37.9506|(19,[0,1,7,18],[0...|\n",
      "|          37.9506|(19,[0,1,9,17],[0...|\n",
      "|          37.9506|(19,[0,1,13,18],[...|\n",
      "|          38.6164|(19,[0,1,5,18],[0...|\n",
      "|           39.948|(19,[0,1,14,18],[...|\n",
      "|           39.948|(19,[0,1,16,17],[...|\n",
      "|          40.6138|(19,[0,1,10,18],[...|\n",
      "|          41.2796|(19,[0,1,4,18],[0...|\n",
      "|          41.2796|(19,[0,1,5,17],[0...|\n",
      "|          41.2796|(19,[0,1,5,18],[0...|\n",
      "|          41.9454|(19,[0,1,5,18],[0...|\n",
      "|          41.9454|(19,[0,1,7,17],[0...|\n",
      "+-----------------+--------------------+\n",
      "only showing top 20 rows\n",
      "\n"
     ]
    }
   ],
   "source": [
    "train.show()"
   ]
  },
  {
   "cell_type": "code",
   "execution_count": 53,
   "metadata": {},
   "outputs": [
    {
     "name": "stdout",
     "output_type": "stream",
     "text": [
      "+-----------------+--------------------+\n",
      "|Item_Outlet_Sales|      scaledFeatures|\n",
      "+-----------------+--------------------+\n",
      "|           36.619|(19,[0,1,5,17],[0...|\n",
      "|          37.9506|(19,[0,1,5,18],[0...|\n",
      "|          38.6164|(19,[0,1,8,18],[0...|\n",
      "|          40.6138|(19,[0,1,6,18],[0...|\n",
      "|          41.9454|(19,[0,1,4,17],[0...|\n",
      "|          47.9376|(19,[0,1,11,17],[...|\n",
      "|          50.6008|(19,[0,1,3,18],[0...|\n",
      "|           56.593|(19,[0,1,2,17],[0...|\n",
      "|          67.9116|(19,[0,1,4,17],[0...|\n",
      "|          69.2432|(19,[0,1,4,17],[0...|\n",
      "|          71.9064|(19,[0,1,11,17],[...|\n",
      "|           73.238|(19,[0,1,13,17],[...|\n",
      "|          75.9012|(19,[0,1,13,17],[...|\n",
      "|          78.5644|(19,[0,1,11,17],[...|\n",
      "|           79.896|(19,[0,1,3,18],[0...|\n",
      "|          81.2276|(19,[0,1,6,17],[0...|\n",
      "|          87.2198|(19,[0,1,2,18],[0...|\n",
      "|          87.2198|(19,[0,1,7,17],[0...|\n",
      "|          88.5514|(19,[0,1,8,17],[0...|\n",
      "|          89.2172|(19,[0,1,7,18],[0...|\n",
      "+-----------------+--------------------+\n",
      "only showing top 20 rows\n",
      "\n"
     ]
    }
   ],
   "source": [
    "test.show()"
   ]
  },
  {
   "cell_type": "code",
   "execution_count": 71,
   "metadata": {},
   "outputs": [
    {
     "data": {
      "text/plain": [
       "(6823, 1700)"
      ]
     },
     "execution_count": 71,
     "metadata": {},
     "output_type": "execute_result"
    }
   ],
   "source": [
    "train.count() , test.count()"
   ]
  },
  {
   "cell_type": "code",
   "execution_count": 55,
   "metadata": {},
   "outputs": [],
   "source": [
    "lin_reg = LinearRegression(featuresCol='scaledFeatures',labelCol='Item_Outlet_Sales')\n",
    "lin_model = lin_reg.fit(train)"
   ]
  },
  {
   "cell_type": "code",
   "execution_count": 56,
   "metadata": {},
   "outputs": [
    {
     "name": "stdout",
     "output_type": "stream",
     "text": [
      "coefficients:  [-22.051885611943646,3690.6689084390537,-224.88569986242524,-190.34377891588818,-284.0705501725863,-225.31574000639515,-227.52245876048045,-141.65850847789068,-212.69820645777114,-258.9819706330785,-233.30614893371992,-180.70525082184759,-194.6977022321746,-225.97949526421422,-304.02492123673545,-65.89797307700208,-364.93806393542724,16.206582156800234,-397.8257702074755]\n",
      "intercept:  798.083041119296\n"
     ]
    }
   ],
   "source": [
    "print(\"coefficients: \",lin_model.coefficients)\n",
    "print('intercept: ',lin_model.intercept)"
   ]
  },
  {
   "cell_type": "code",
   "execution_count": 57,
   "metadata": {},
   "outputs": [
    {
     "name": "stdout",
     "output_type": "stream",
     "text": [
      "RMSE:  1400.0402303970607\n",
      "R2Score:  33.283146687783216\n"
     ]
    }
   ],
   "source": [
    "model_summary = lin_model.summary\n",
    "print('RMSE: ',model_summary.rootMeanSquaredError)\n",
    "print('R2Score: ',model_summary.r2*100)"
   ]
  },
  {
   "cell_type": "code",
   "execution_count": 58,
   "metadata": {},
   "outputs": [],
   "source": [
    "prediction = lin_model.transform(test)"
   ]
  },
  {
   "cell_type": "code",
   "execution_count": 59,
   "metadata": {},
   "outputs": [
    {
     "name": "stdout",
     "output_type": "stream",
     "text": [
      "+-----------------+--------------------+------------------+\n",
      "|Item_Outlet_Sales|      scaledFeatures|        prediction|\n",
      "+-----------------+--------------------+------------------+\n",
      "|           36.619|(19,[0,1,5,17],[0...| 636.3481479053805|\n",
      "|          37.9506|(19,[0,1,5,18],[0...| 298.4809524965891|\n",
      "|          38.6164|(19,[0,1,8,18],[0...|271.39998724133477|\n",
      "|          40.6138|(19,[0,1,6,18],[0...|333.29392078170605|\n",
      "|          41.9454|(19,[0,1,4,17],[0...| 708.2331236529742|\n",
      "|          47.9376|(19,[0,1,11,17],[...| 890.0278876420905|\n",
      "|          50.6008|(19,[0,1,3,18],[0...| 525.3533124648691|\n",
      "|           56.593|(19,[0,1,2,17],[0...| 934.5619306367005|\n",
      "|          67.9116|(19,[0,1,4,17],[0...| 584.0146195156473|\n",
      "|          69.2432|(19,[0,1,4,17],[0...| 595.5504383574511|\n",
      "|          71.9064|(19,[0,1,11,17],[...| 726.0222111427948|\n",
      "|           73.238|(19,[0,1,13,17],[...|1248.1950109974016|\n",
      "|          75.9012|(19,[0,1,13,17],[...| 708.0110311174966|\n",
      "|          78.5644|(19,[0,1,11,17],[...| 745.4998262453134|\n",
      "|           79.896|(19,[0,1,3,18],[0...| 316.1805893151679|\n",
      "|          81.2276|(19,[0,1,6,17],[0...|  707.461583800892|\n",
      "|          87.2198|(19,[0,1,2,18],[0...|1015.8893322942668|\n",
      "|          87.2198|(19,[0,1,7,17],[0...| 1519.546234751665|\n",
      "|          88.5514|(19,[0,1,8,17],[0...|1473.9561491572676|\n",
      "|          89.2172|(19,[0,1,7,18],[0...|1142.9380548846516|\n",
      "+-----------------+--------------------+------------------+\n",
      "only showing top 20 rows\n",
      "\n"
     ]
    }
   ],
   "source": [
    "prediction.show()"
   ]
  },
  {
   "cell_type": "code",
   "execution_count": 60,
   "metadata": {},
   "outputs": [
    {
     "name": "stdout",
     "output_type": "stream",
     "text": [
      "rsquared_for_test_data:  0.3348655894011082\n"
     ]
    }
   ],
   "source": [
    "linear_model_evaluator = RegressionEvaluator(predictionCol='prediction',labelCol='Item_Outlet_Sales',metricName='r2')\n",
    "print('rsquared_for_test_data: ',linear_model_evaluator.evaluate(prediction))"
   ]
  },
  {
   "cell_type": "code",
   "execution_count": null,
   "metadata": {},
   "outputs": [],
   "source": []
  }
 ],
 "metadata": {
  "kernelspec": {
   "display_name": "Python 3",
   "language": "python",
   "name": "python3"
  },
  "language_info": {
   "codemirror_mode": {
    "name": "ipython",
    "version": 3
   },
   "file_extension": ".py",
   "mimetype": "text/x-python",
   "name": "python",
   "nbconvert_exporter": "python",
   "pygments_lexer": "ipython3",
   "version": "3.11.5"
  }
 },
 "nbformat": 4,
 "nbformat_minor": 2
}
