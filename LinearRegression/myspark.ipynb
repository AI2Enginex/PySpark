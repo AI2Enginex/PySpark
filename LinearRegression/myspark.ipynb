{
 "cells": [
  {
   "cell_type": "markdown",
   "metadata": {},
   "source": [
    "# PySpark DataFrame\n",
    "\n",
    "A PySpark DataFrame is a distributed collection of data organized into named columns. It is similar in concept to a table in a relational database or a DataFrame in pandas. PySpark DataFrame is built on top of RDD (Resilient Distributed Dataset), which allows for distributed processing of large datasets across a cluster of computers.\n",
    "\n",
    "# Key characteristics of PySpark DataFrame include:\n",
    "\n",
    "Distributed Computing: Data in a PySpark DataFrame is distributed across multiple nodes in a cluster, allowing for parallel processing and scalability.\n",
    "\n",
    "Immutable: Similar to RDDs, PySpark DataFrames are immutable, meaning that once created, they cannot be changed. However, transformations can be applied to create new DataFrames.\n",
    "\n",
    "Lazy Evaluation: PySpark DataFrame operations are lazily evaluated, meaning that transformations are not executed immediately. Instead, they are queued up and executed only when an action is called, such as show() or count().\n",
    "\n",
    "Schema: PySpark DataFrame has a defined schema, which specifies the data types of each column. This schema allows for efficient data storage and processing.\n",
    "\n",
    "SQL Interface: PySpark DataFrame provides a SQL-like interface for querying data using SQL queries, allowing users familiar with SQL to easily manipulate and analyze data.\n",
    "\n",
    "Integration with Libraries: PySpark DataFrame integrates seamlessly with other Python libraries like pandas, allowing for easy conversion between PySpark DataFrame and pandas DataFrame.\n",
    "\n",
    "\n",
    "# list of PySpark DataFrame operations \n",
    "\n",
    "        1] select(): Select specific columns from the DataFrame.\n",
    "\n",
    "        2] filter(): Filter rows based on a condition.\n",
    "\n",
    "        3] groupBy(): Group rows based on one or more columns.\n",
    "\n",
    "        4] agg(): Perform aggregate functions like sum, avg, count, etc., on grouped data.\n",
    "\n",
    "        5] orderBy(): Sort the DataFrame based on one or more columns.\n",
    "\n",
    "        6] join(): Join two DataFrames based on a condition.\n",
    "\n",
    "        7] withColumn(): Add a new column or replace an existing one.\n",
    "\n",
    "        8] drop(): Drop specified columns from the DataFrame.\n",
    "\n",
    "        9] count(): Count the number of rows in the DataFrame.\n",
    "\n",
    "        10] sum(): Compute the sum of values in a column.\n",
    "\n",
    "        11] avg(): Compute the average of values in a column.\n",
    "\n",
    "        12] min(): Find the minimum value in a column.\n",
    "\n",
    "        13] max(): Find the maximum value in a column.\n",
    "\n",
    "        14] groupBy() + pivot(): Pivot the DataFrame based on a column.\n",
    "\n",
    "        15] fillna(): Replace missing values with specified values.\n",
    "\n",
    "        16] show(): Display a preview of the DataFrame.\n",
    "\n",
    "        17] sample(): Sample a fraction of rows from the DataFrame."
   ]
  },
  {
   "cell_type": "code",
   "execution_count": 1,
   "metadata": {},
   "outputs": [],
   "source": [
    "# Importing the SparkSession module from the pyspark.sql package\n",
    "from pyspark.sql import SparkSession\n",
    "\n",
    "# Importing specific functions like col, when, count from the pyspark.sql.functions module\n",
    "from pyspark.sql.functions import col, when, count\n",
    "\n",
    "# Importing the VectorAssembler module from the pyspark.ml.feature package\n",
    "from pyspark.ml.feature import VectorAssembler\n",
    "\n",
    "# Importing the StringIndexer and OneHotEncoder modules from the pyspark.ml.feature package\n",
    "from pyspark.ml.feature import StringIndexer, OneHotEncoder\n",
    "\n",
    "# Importing the Pipeline module from the pyspark.ml package\n",
    "from pyspark.ml import Pipeline\n",
    "\n",
    "# Importing the MinMaxScaler module from the pyspark.ml.feature package\n",
    "from pyspark.ml.feature import MinMaxScaler\n",
    "\n",
    "# Importing the LinearRegression module from the pyspark.ml.regression package\n",
    "from pyspark.ml.regression import LinearRegression\n",
    "\n",
    "# Importing the RegressionEvaluator module from the pyspark.ml.evaluation package\n",
    "from pyspark.ml.evaluation import RegressionEvaluator\n",
    "\n"
   ]
  },
  {
   "cell_type": "markdown",
   "metadata": {},
   "source": [
    "## Read CSV File into Spark DataFrame\n"
   ]
  },
  {
   "cell_type": "code",
   "execution_count": 2,
   "metadata": {},
   "outputs": [],
   "source": [
    "# Creating a SparkSession with a specified application name \"DataFrame Preprocessing\" using the SparkSession.builder method\n",
    "spark = SparkSession.builder.appName(\"DataFrame Preprocessing\").getOrCreate()\n",
    "\n",
    "# Reading a CSV file \"big_mart.csv\" into a DataFrame named \"dataset\" with the first row as header\n",
    "dataset = spark.read.csv(\"./big_mart.csv\",header=True)"
   ]
  },
  {
   "cell_type": "code",
   "execution_count": 3,
   "metadata": {},
   "outputs": [
    {
     "name": "stdout",
     "output_type": "stream",
     "text": [
      "+---------------+-----------+----------------+---------------+--------------------+--------+-----------------+-------------------------+-----------+--------------------+-----------------+-----------------+-----------+---------+-----------------+-----------------+--------------+\n",
      "|Item_Identifier|Item_Weight|Item_Fat_Content|Item_Visibility|           Item_Type|Item_MRP|Outlet_Identifier|Outlet_Establishment_Year|Outlet_Size|Outlet_Location_Type|      Outlet_Type|Item_Outlet_Sales|   Category|City_Type|Variance_of_sales|  mean_comparison|Data_direction|\n",
      "+---------------+-----------+----------------+---------------+--------------------+--------+-----------------+-------------------------+-----------+--------------------+-----------------+-----------------+-----------+---------+-----------------+-----------------+--------------+\n",
      "|          FDP10|       12.6|         Low Fat|    0.127469857|         Snack Foods|107.7622|           OUT027|                     1985|     Medium|              Tier 3|Supermarket Type3|        4022.7636|    Healthy|  Village|          1841.47|greater_than_mean|   Left tailed|\n",
      "|          DRI11|       12.6|         Low Fat|    0.034237682|         Hard Drinks|113.2834|           OUT027|                     1985|     Medium|              Tier 3|Supermarket Type3|         2303.668|    Healthy|  Village|           122.38|greater_than_mean|   Left tailed|\n",
      "|          FDW12|       12.6|         Regular|    0.035399923|        Baking Goods|144.5444|           OUT027|                     1985|     Medium|              Tier 3|Supermarket Type3|        4064.0432|Not Healthy|  Village|          1882.75|greater_than_mean|   Left tailed|\n",
      "|          FDV20|       12.6|         Regular|    0.059511812|Fruits and Vegeta...|128.0678|           OUT027|                     1985|     Medium|              Tier 3|Supermarket Type3|        2797.6916|Not Healthy|  Village|            616.4|greater_than_mean|   Left tailed|\n",
      "|          FDX10|       12.6|         Regular|    0.123111453|         Snack Foods| 36.9874|           OUT027|                     1985|     Medium|              Tier 3|Supermarket Type3|         388.1614|Not Healthy|  Village|         -1793.13|   less_than_mean|   Left tailed|\n",
      "|          FDB34|       12.6|         Low Fat|    0.026480954|         Snack Foods| 87.6198|           OUT027|                     1985|     Medium|              Tier 3|Supermarket Type3|         2180.495|    Healthy|  Village|            -0.79|   less_than_mean|   Left tailed|\n",
      "|          FDF09|       12.6|         Low Fat|    0.012090074|Fruits and Vegeta...| 38.2848|           OUT027|                     1985|     Medium|              Tier 3|Supermarket Type3|         484.7024|    Healthy|  Village|         -1696.59|   less_than_mean|   Left tailed|\n",
      "|          FDY45|       12.6|         Low Fat|    0.026015519|         Snack Foods|255.8356|           OUT027|                     1985|     Medium|              Tier 3|Supermarket Type3|         2543.356|    Healthy|  Village|           362.07|greater_than_mean|   Left tailed|\n",
      "|          FDR12|       12.6|         Regular|    0.031382044|        Baking Goods|171.3764|           OUT027|                     1985|     Medium|              Tier 3|Supermarket Type3|        3091.9752|Not Healthy|  Village|           910.69|greater_than_mean|   Left tailed|\n",
      "|          FDQ49|       12.6|         Regular|    0.039057677|           Breakfast| 155.963|           OUT027|                     1985|     Medium|              Tier 3|Supermarket Type3|         3285.723|Not Healthy|  Village|          1104.43|greater_than_mean|   Left tailed|\n",
      "|          NCP18|       12.6|         Low Fat|    0.028459761|           Household|149.9708|           OUT027|                     1985|     Medium|              Tier 3|Supermarket Type3|        4363.6532|    Healthy|  Village|          2182.36|greater_than_mean|  right tailed|\n",
      "|          FDD10|       12.6|         Regular|    0.045797829|         Snack Foods|178.5344|           OUT027|                     1985|     Medium|              Tier 3|Supermarket Type3|        2854.9504|Not Healthy|  Village|           673.66|greater_than_mean|   Left tailed|\n",
      "|          FDX34|       12.6|         Low Fat|    0.071636937|         Snack Foods|121.7098|           OUT027|                     1985|     Medium|              Tier 3|Supermarket Type3|        4097.3332|    Healthy|  Village|          1916.04|greater_than_mean|   Left tailed|\n",
      "|          FDY25|       12.6|         Low Fat|    0.033809913|              Canned|180.5976|           OUT027|                     1985|     Medium|              Tier 3|Supermarket Type3|        7968.2944|    Healthy|  Village|          5787.01|greater_than_mean|  right tailed|\n",
      "|          NCR53|       12.6|         Low Fat|    0.144338493|  Health and Hygiene|224.4404|           OUT027|                     1985|     Medium|              Tier 3|Supermarket Type3|        6976.2524|    Healthy|  Village|          4794.96|greater_than_mean|  right tailed|\n",
      "|          FDH35|       12.6|         Low Fat|    0.059956876|       Starchy Foods|165.4526|           OUT027|                     1985|     Medium|              Tier 3|Supermarket Type3|        5262.4832|    Healthy|  Village|          3081.19|greater_than_mean|  right tailed|\n",
      "|          DRK12|       12.6|         Low Fat|    0.041683481|         Soft Drinks|   31.29|           OUT027|                     1985|     Medium|              Tier 3|Supermarket Type3|           898.83|    Healthy|  Village|         -1282.46|   less_than_mean|   Left tailed|\n",
      "|          FDR07|       12.6|         Low Fat|    0.077367431|Fruits and Vegeta...| 97.0094|           OUT027|                     1985|     Medium|              Tier 3|Supermarket Type3|        1808.9786|    Healthy|  Village|          -372.31|   less_than_mean|   Left tailed|\n",
      "|          NCB30|       12.6|         Low Fat|    0.025578526|           Household|198.8084|           OUT027|                     1985|     Medium|              Tier 3|Supermarket Type3|        5555.4352|    Healthy|  Village|          3374.15|greater_than_mean|  right tailed|\n",
      "|          FDQ28|       12.6|         Regular|    0.060134441|        Frozen Foods|153.0656|           OUT027|                     1985|     Medium|              Tier 3|Supermarket Type3|        6024.1584|Not Healthy|  Village|          3842.87|greater_than_mean|  right tailed|\n",
      "+---------------+-----------+----------------+---------------+--------------------+--------+-----------------+-------------------------+-----------+--------------------+-----------------+-----------------+-----------+---------+-----------------+-----------------+--------------+\n",
      "only showing top 20 rows\n",
      "\n"
     ]
    }
   ],
   "source": [
    "# displaying  the dataframe using PySparks's show() method \n",
    "dataset.show()"
   ]
  },
  {
   "cell_type": "markdown",
   "metadata": {},
   "source": [
    "## Print Schema of the Dataset\n"
   ]
  },
  {
   "cell_type": "code",
   "execution_count": 4,
   "metadata": {},
   "outputs": [
    {
     "name": "stdout",
     "output_type": "stream",
     "text": [
      "root\n",
      " |-- Item_Identifier: string (nullable = true)\n",
      " |-- Item_Weight: string (nullable = true)\n",
      " |-- Item_Fat_Content: string (nullable = true)\n",
      " |-- Item_Visibility: string (nullable = true)\n",
      " |-- Item_Type: string (nullable = true)\n",
      " |-- Item_MRP: string (nullable = true)\n",
      " |-- Outlet_Identifier: string (nullable = true)\n",
      " |-- Outlet_Establishment_Year: string (nullable = true)\n",
      " |-- Outlet_Size: string (nullable = true)\n",
      " |-- Outlet_Location_Type: string (nullable = true)\n",
      " |-- Outlet_Type: string (nullable = true)\n",
      " |-- Item_Outlet_Sales: string (nullable = true)\n",
      " |-- Category: string (nullable = true)\n",
      " |-- City_Type: string (nullable = true)\n",
      " |-- Variance_of_sales: string (nullable = true)\n",
      " |-- mean_comparison: string (nullable = true)\n",
      " |-- Data_direction: string (nullable = true)\n",
      "\n"
     ]
    }
   ],
   "source": [
    "# Print the schema of the DataFrame \"dataset\"\n",
    "dataset.printSchema()"
   ]
  },
  {
   "cell_type": "markdown",
   "metadata": {},
   "source": [
    "# type casting features"
   ]
  },
  {
   "cell_type": "code",
   "execution_count": 5,
   "metadata": {},
   "outputs": [],
   "source": [
    "# converting features to float\n",
    "column_names = ['Item_Weight','Item_MRP','Item_Outlet_Sales']\n",
    "# for cols in column_names:\n",
    "#     dataset = dataset.withColumn([cols, col(cols).cast('float')])\n",
    "dataset = dataset.select(*[col(cols).cast('float').alias(cols) if cols in column_names else col(cols) for cols in dataset.columns])\n"
   ]
  },
  {
   "cell_type": "code",
   "execution_count": 6,
   "metadata": {},
   "outputs": [
    {
     "name": "stdout",
     "output_type": "stream",
     "text": [
      "root\n",
      " |-- Item_Identifier: string (nullable = true)\n",
      " |-- Item_Weight: float (nullable = true)\n",
      " |-- Item_Fat_Content: string (nullable = true)\n",
      " |-- Item_Visibility: string (nullable = true)\n",
      " |-- Item_Type: string (nullable = true)\n",
      " |-- Item_MRP: float (nullable = true)\n",
      " |-- Outlet_Identifier: string (nullable = true)\n",
      " |-- Outlet_Establishment_Year: string (nullable = true)\n",
      " |-- Outlet_Size: string (nullable = true)\n",
      " |-- Outlet_Location_Type: string (nullable = true)\n",
      " |-- Outlet_Type: string (nullable = true)\n",
      " |-- Item_Outlet_Sales: float (nullable = true)\n",
      " |-- Category: string (nullable = true)\n",
      " |-- City_Type: string (nullable = true)\n",
      " |-- Variance_of_sales: string (nullable = true)\n",
      " |-- mean_comparison: string (nullable = true)\n",
      " |-- Data_direction: string (nullable = true)\n",
      "\n"
     ]
    }
   ],
   "source": [
    "dataset.printSchema()  # display datatype for the features in the dataframe"
   ]
  },
  {
   "cell_type": "code",
   "execution_count": 7,
   "metadata": {},
   "outputs": [
    {
     "name": "stdout",
     "output_type": "stream",
     "text": [
      "+---------------+-----------+----------------+---------------+--------------------+--------+-----------------+-------------------------+-----------+--------------------+-----------------+-----------------+-----------+---------+-----------------+-----------------+--------------+\n",
      "|Item_Identifier|Item_Weight|Item_Fat_Content|Item_Visibility|           Item_Type|Item_MRP|Outlet_Identifier|Outlet_Establishment_Year|Outlet_Size|Outlet_Location_Type|      Outlet_Type|Item_Outlet_Sales|   Category|City_Type|Variance_of_sales|  mean_comparison|Data_direction|\n",
      "+---------------+-----------+----------------+---------------+--------------------+--------+-----------------+-------------------------+-----------+--------------------+-----------------+-----------------+-----------+---------+-----------------+-----------------+--------------+\n",
      "|          FDP10|       12.6|         Low Fat|    0.127469857|         Snack Foods|107.7622|           OUT027|                     1985|     Medium|              Tier 3|Supermarket Type3|        4022.7637|    Healthy|  Village|          1841.47|greater_than_mean|   Left tailed|\n",
      "|          DRI11|       12.6|         Low Fat|    0.034237682|         Hard Drinks|113.2834|           OUT027|                     1985|     Medium|              Tier 3|Supermarket Type3|         2303.668|    Healthy|  Village|           122.38|greater_than_mean|   Left tailed|\n",
      "|          FDW12|       12.6|         Regular|    0.035399923|        Baking Goods|144.5444|           OUT027|                     1985|     Medium|              Tier 3|Supermarket Type3|        4064.0432|Not Healthy|  Village|          1882.75|greater_than_mean|   Left tailed|\n",
      "|          FDV20|       12.6|         Regular|    0.059511812|Fruits and Vegeta...|128.0678|           OUT027|                     1985|     Medium|              Tier 3|Supermarket Type3|        2797.6917|Not Healthy|  Village|            616.4|greater_than_mean|   Left tailed|\n",
      "|          FDX10|       12.6|         Regular|    0.123111453|         Snack Foods| 36.9874|           OUT027|                     1985|     Medium|              Tier 3|Supermarket Type3|         388.1614|Not Healthy|  Village|         -1793.13|   less_than_mean|   Left tailed|\n",
      "|          FDB34|       12.6|         Low Fat|    0.026480954|         Snack Foods| 87.6198|           OUT027|                     1985|     Medium|              Tier 3|Supermarket Type3|         2180.495|    Healthy|  Village|            -0.79|   less_than_mean|   Left tailed|\n",
      "|          FDF09|       12.6|         Low Fat|    0.012090074|Fruits and Vegeta...| 38.2848|           OUT027|                     1985|     Medium|              Tier 3|Supermarket Type3|         484.7024|    Healthy|  Village|         -1696.59|   less_than_mean|   Left tailed|\n",
      "|          FDY45|       12.6|         Low Fat|    0.026015519|         Snack Foods|255.8356|           OUT027|                     1985|     Medium|              Tier 3|Supermarket Type3|         2543.356|    Healthy|  Village|           362.07|greater_than_mean|   Left tailed|\n",
      "|          FDR12|       12.6|         Regular|    0.031382044|        Baking Goods|171.3764|           OUT027|                     1985|     Medium|              Tier 3|Supermarket Type3|         3091.975|Not Healthy|  Village|           910.69|greater_than_mean|   Left tailed|\n",
      "|          FDQ49|       12.6|         Regular|    0.039057677|           Breakfast| 155.963|           OUT027|                     1985|     Medium|              Tier 3|Supermarket Type3|         3285.723|Not Healthy|  Village|          1104.43|greater_than_mean|   Left tailed|\n",
      "|          NCP18|       12.6|         Low Fat|    0.028459761|           Household|149.9708|           OUT027|                     1985|     Medium|              Tier 3|Supermarket Type3|        4363.6533|    Healthy|  Village|          2182.36|greater_than_mean|  right tailed|\n",
      "|          FDD10|       12.6|         Regular|    0.045797829|         Snack Foods|178.5344|           OUT027|                     1985|     Medium|              Tier 3|Supermarket Type3|        2854.9504|Not Healthy|  Village|           673.66|greater_than_mean|   Left tailed|\n",
      "|          FDX34|       12.6|         Low Fat|    0.071636937|         Snack Foods|121.7098|           OUT027|                     1985|     Medium|              Tier 3|Supermarket Type3|         4097.333|    Healthy|  Village|          1916.04|greater_than_mean|   Left tailed|\n",
      "|          FDY25|       12.6|         Low Fat|    0.033809913|              Canned|180.5976|           OUT027|                     1985|     Medium|              Tier 3|Supermarket Type3|        7968.2944|    Healthy|  Village|          5787.01|greater_than_mean|  right tailed|\n",
      "|          NCR53|       12.6|         Low Fat|    0.144338493|  Health and Hygiene|224.4404|           OUT027|                     1985|     Medium|              Tier 3|Supermarket Type3|        6976.2524|    Healthy|  Village|          4794.96|greater_than_mean|  right tailed|\n",
      "|          FDH35|       12.6|         Low Fat|    0.059956876|       Starchy Foods|165.4526|           OUT027|                     1985|     Medium|              Tier 3|Supermarket Type3|        5262.4834|    Healthy|  Village|          3081.19|greater_than_mean|  right tailed|\n",
      "|          DRK12|       12.6|         Low Fat|    0.041683481|         Soft Drinks|   31.29|           OUT027|                     1985|     Medium|              Tier 3|Supermarket Type3|           898.83|    Healthy|  Village|         -1282.46|   less_than_mean|   Left tailed|\n",
      "|          FDR07|       12.6|         Low Fat|    0.077367431|Fruits and Vegeta...| 97.0094|           OUT027|                     1985|     Medium|              Tier 3|Supermarket Type3|        1808.9786|    Healthy|  Village|          -372.31|   less_than_mean|   Left tailed|\n",
      "|          NCB30|       12.6|         Low Fat|    0.025578526|           Household|198.8084|           OUT027|                     1985|     Medium|              Tier 3|Supermarket Type3|         5555.435|    Healthy|  Village|          3374.15|greater_than_mean|  right tailed|\n",
      "|          FDQ28|       12.6|         Regular|    0.060134441|        Frozen Foods|153.0656|           OUT027|                     1985|     Medium|              Tier 3|Supermarket Type3|         6024.158|Not Healthy|  Village|          3842.87|greater_than_mean|  right tailed|\n",
      "+---------------+-----------+----------------+---------------+--------------------+--------+-----------------+-------------------------+-----------+--------------------+-----------------+-----------------+-----------+---------+-----------------+-----------------+--------------+\n",
      "only showing top 20 rows\n",
      "\n"
     ]
    }
   ],
   "source": [
    "dataset.show() # to display record by default 20"
   ]
  },
  {
   "cell_type": "markdown",
   "metadata": {},
   "source": [
    "# counting total rows"
   ]
  },
  {
   "cell_type": "code",
   "execution_count": 8,
   "metadata": {},
   "outputs": [
    {
     "data": {
      "text/plain": [
       "8523"
      ]
     },
     "execution_count": 8,
     "metadata": {},
     "output_type": "execute_result"
    }
   ],
   "source": [
    "dataset.count()  # total rows"
   ]
  },
  {
   "cell_type": "markdown",
   "metadata": {},
   "source": [
    "# reading the first row"
   ]
  },
  {
   "cell_type": "code",
   "execution_count": 9,
   "metadata": {},
   "outputs": [
    {
     "data": {
      "text/plain": [
       "Row(Item_Identifier='FDP10', Item_Weight=12.600000381469727, Item_Fat_Content='Low Fat', Item_Visibility='0.127469857', Item_Type='Snack Foods', Item_MRP=107.76219940185547, Outlet_Identifier='OUT027', Outlet_Establishment_Year='1985', Outlet_Size='Medium', Outlet_Location_Type='Tier 3', Outlet_Type='Supermarket Type3', Item_Outlet_Sales=4022.763671875, Category='Healthy', City_Type='Village', Variance_of_sales='1841.47', mean_comparison='greater_than_mean', Data_direction='Left tailed')"
      ]
     },
     "execution_count": 9,
     "metadata": {},
     "output_type": "execute_result"
    }
   ],
   "source": [
    "dataset.first()  # to display only the first record"
   ]
  },
  {
   "cell_type": "code",
   "execution_count": 10,
   "metadata": {},
   "outputs": [
    {
     "name": "stdout",
     "output_type": "stream",
     "text": [
      "+---------------+-----------+----------------+---------------+--------------------+--------+-----------------+-------------------------+-----------+--------------------+-----------------+-----------------+-----------+---------+-----------------+-----------------+--------------+\n",
      "|Item_Identifier|Item_Weight|Item_Fat_Content|Item_Visibility|           Item_Type|Item_MRP|Outlet_Identifier|Outlet_Establishment_Year|Outlet_Size|Outlet_Location_Type|      Outlet_Type|Item_Outlet_Sales|   Category|City_Type|Variance_of_sales|  mean_comparison|Data_direction|\n",
      "+---------------+-----------+----------------+---------------+--------------------+--------+-----------------+-------------------------+-----------+--------------------+-----------------+-----------------+-----------+---------+-----------------+-----------------+--------------+\n",
      "|          FDP10|       12.6|         Low Fat|    0.127469857|         Snack Foods|107.7622|           OUT027|                     1985|     Medium|              Tier 3|Supermarket Type3|        4022.7637|    Healthy|  Village|          1841.47|greater_than_mean|   Left tailed|\n",
      "|          DRI11|       12.6|         Low Fat|    0.034237682|         Hard Drinks|113.2834|           OUT027|                     1985|     Medium|              Tier 3|Supermarket Type3|         2303.668|    Healthy|  Village|           122.38|greater_than_mean|   Left tailed|\n",
      "|          FDW12|       12.6|         Regular|    0.035399923|        Baking Goods|144.5444|           OUT027|                     1985|     Medium|              Tier 3|Supermarket Type3|        4064.0432|Not Healthy|  Village|          1882.75|greater_than_mean|   Left tailed|\n",
      "|          FDV20|       12.6|         Regular|    0.059511812|Fruits and Vegeta...|128.0678|           OUT027|                     1985|     Medium|              Tier 3|Supermarket Type3|        2797.6917|Not Healthy|  Village|            616.4|greater_than_mean|   Left tailed|\n",
      "|          FDX10|       12.6|         Regular|    0.123111453|         Snack Foods| 36.9874|           OUT027|                     1985|     Medium|              Tier 3|Supermarket Type3|         388.1614|Not Healthy|  Village|         -1793.13|   less_than_mean|   Left tailed|\n",
      "|          FDB34|       12.6|         Low Fat|    0.026480954|         Snack Foods| 87.6198|           OUT027|                     1985|     Medium|              Tier 3|Supermarket Type3|         2180.495|    Healthy|  Village|            -0.79|   less_than_mean|   Left tailed|\n",
      "|          FDF09|       12.6|         Low Fat|    0.012090074|Fruits and Vegeta...| 38.2848|           OUT027|                     1985|     Medium|              Tier 3|Supermarket Type3|         484.7024|    Healthy|  Village|         -1696.59|   less_than_mean|   Left tailed|\n",
      "|          FDY45|       12.6|         Low Fat|    0.026015519|         Snack Foods|255.8356|           OUT027|                     1985|     Medium|              Tier 3|Supermarket Type3|         2543.356|    Healthy|  Village|           362.07|greater_than_mean|   Left tailed|\n",
      "|          FDR12|       12.6|         Regular|    0.031382044|        Baking Goods|171.3764|           OUT027|                     1985|     Medium|              Tier 3|Supermarket Type3|         3091.975|Not Healthy|  Village|           910.69|greater_than_mean|   Left tailed|\n",
      "|          FDQ49|       12.6|         Regular|    0.039057677|           Breakfast| 155.963|           OUT027|                     1985|     Medium|              Tier 3|Supermarket Type3|         3285.723|Not Healthy|  Village|          1104.43|greater_than_mean|   Left tailed|\n",
      "|          NCP18|       12.6|         Low Fat|    0.028459761|           Household|149.9708|           OUT027|                     1985|     Medium|              Tier 3|Supermarket Type3|        4363.6533|    Healthy|  Village|          2182.36|greater_than_mean|  right tailed|\n",
      "|          FDD10|       12.6|         Regular|    0.045797829|         Snack Foods|178.5344|           OUT027|                     1985|     Medium|              Tier 3|Supermarket Type3|        2854.9504|Not Healthy|  Village|           673.66|greater_than_mean|   Left tailed|\n",
      "|          FDX34|       12.6|         Low Fat|    0.071636937|         Snack Foods|121.7098|           OUT027|                     1985|     Medium|              Tier 3|Supermarket Type3|         4097.333|    Healthy|  Village|          1916.04|greater_than_mean|   Left tailed|\n",
      "|          FDY25|       12.6|         Low Fat|    0.033809913|              Canned|180.5976|           OUT027|                     1985|     Medium|              Tier 3|Supermarket Type3|        7968.2944|    Healthy|  Village|          5787.01|greater_than_mean|  right tailed|\n",
      "|          NCR53|       12.6|         Low Fat|    0.144338493|  Health and Hygiene|224.4404|           OUT027|                     1985|     Medium|              Tier 3|Supermarket Type3|        6976.2524|    Healthy|  Village|          4794.96|greater_than_mean|  right tailed|\n",
      "+---------------+-----------+----------------+---------------+--------------------+--------+-----------------+-------------------------+-----------+--------------------+-----------------+-----------------+-----------+---------+-----------------+-----------------+--------------+\n",
      "only showing top 15 rows\n",
      "\n"
     ]
    }
   ],
   "source": [
    "dataset.show(15)"
   ]
  },
  {
   "cell_type": "markdown",
   "metadata": {},
   "source": [
    "# data filteration (same as SQL)"
   ]
  },
  {
   "cell_type": "code",
   "execution_count": 11,
   "metadata": {},
   "outputs": [],
   "source": [
    "filter_by_weight = dataset.filter(\"Item_Weight <= 20\")   # to filter out record based on condiction"
   ]
  },
  {
   "cell_type": "code",
   "execution_count": 12,
   "metadata": {},
   "outputs": [
    {
     "name": "stdout",
     "output_type": "stream",
     "text": [
      "+---------------+-----------+----------------+---------------+--------------------+--------+-----------------+-------------------------+-----------+--------------------+-----------------+-----------------+-----------+---------+-----------------+-----------------+--------------+\n",
      "|Item_Identifier|Item_Weight|Item_Fat_Content|Item_Visibility|           Item_Type|Item_MRP|Outlet_Identifier|Outlet_Establishment_Year|Outlet_Size|Outlet_Location_Type|      Outlet_Type|Item_Outlet_Sales|   Category|City_Type|Variance_of_sales|  mean_comparison|Data_direction|\n",
      "+---------------+-----------+----------------+---------------+--------------------+--------+-----------------+-------------------------+-----------+--------------------+-----------------+-----------------+-----------+---------+-----------------+-----------------+--------------+\n",
      "|          FDP10|       12.6|         Low Fat|    0.127469857|         Snack Foods|107.7622|           OUT027|                     1985|     Medium|              Tier 3|Supermarket Type3|        4022.7637|    Healthy|  Village|          1841.47|greater_than_mean|   Left tailed|\n",
      "|          DRI11|       12.6|         Low Fat|    0.034237682|         Hard Drinks|113.2834|           OUT027|                     1985|     Medium|              Tier 3|Supermarket Type3|         2303.668|    Healthy|  Village|           122.38|greater_than_mean|   Left tailed|\n",
      "|          FDW12|       12.6|         Regular|    0.035399923|        Baking Goods|144.5444|           OUT027|                     1985|     Medium|              Tier 3|Supermarket Type3|        4064.0432|Not Healthy|  Village|          1882.75|greater_than_mean|   Left tailed|\n",
      "|          FDV20|       12.6|         Regular|    0.059511812|Fruits and Vegeta...|128.0678|           OUT027|                     1985|     Medium|              Tier 3|Supermarket Type3|        2797.6917|Not Healthy|  Village|            616.4|greater_than_mean|   Left tailed|\n",
      "|          FDX10|       12.6|         Regular|    0.123111453|         Snack Foods| 36.9874|           OUT027|                     1985|     Medium|              Tier 3|Supermarket Type3|         388.1614|Not Healthy|  Village|         -1793.13|   less_than_mean|   Left tailed|\n",
      "|          FDB34|       12.6|         Low Fat|    0.026480954|         Snack Foods| 87.6198|           OUT027|                     1985|     Medium|              Tier 3|Supermarket Type3|         2180.495|    Healthy|  Village|            -0.79|   less_than_mean|   Left tailed|\n",
      "|          FDF09|       12.6|         Low Fat|    0.012090074|Fruits and Vegeta...| 38.2848|           OUT027|                     1985|     Medium|              Tier 3|Supermarket Type3|         484.7024|    Healthy|  Village|         -1696.59|   less_than_mean|   Left tailed|\n",
      "|          FDY45|       12.6|         Low Fat|    0.026015519|         Snack Foods|255.8356|           OUT027|                     1985|     Medium|              Tier 3|Supermarket Type3|         2543.356|    Healthy|  Village|           362.07|greater_than_mean|   Left tailed|\n",
      "|          FDR12|       12.6|         Regular|    0.031382044|        Baking Goods|171.3764|           OUT027|                     1985|     Medium|              Tier 3|Supermarket Type3|         3091.975|Not Healthy|  Village|           910.69|greater_than_mean|   Left tailed|\n",
      "|          FDQ49|       12.6|         Regular|    0.039057677|           Breakfast| 155.963|           OUT027|                     1985|     Medium|              Tier 3|Supermarket Type3|         3285.723|Not Healthy|  Village|          1104.43|greater_than_mean|   Left tailed|\n",
      "|          NCP18|       12.6|         Low Fat|    0.028459761|           Household|149.9708|           OUT027|                     1985|     Medium|              Tier 3|Supermarket Type3|        4363.6533|    Healthy|  Village|          2182.36|greater_than_mean|  right tailed|\n",
      "|          FDD10|       12.6|         Regular|    0.045797829|         Snack Foods|178.5344|           OUT027|                     1985|     Medium|              Tier 3|Supermarket Type3|        2854.9504|Not Healthy|  Village|           673.66|greater_than_mean|   Left tailed|\n",
      "|          FDX34|       12.6|         Low Fat|    0.071636937|         Snack Foods|121.7098|           OUT027|                     1985|     Medium|              Tier 3|Supermarket Type3|         4097.333|    Healthy|  Village|          1916.04|greater_than_mean|   Left tailed|\n",
      "|          FDY25|       12.6|         Low Fat|    0.033809913|              Canned|180.5976|           OUT027|                     1985|     Medium|              Tier 3|Supermarket Type3|        7968.2944|    Healthy|  Village|          5787.01|greater_than_mean|  right tailed|\n",
      "|          NCR53|       12.6|         Low Fat|    0.144338493|  Health and Hygiene|224.4404|           OUT027|                     1985|     Medium|              Tier 3|Supermarket Type3|        6976.2524|    Healthy|  Village|          4794.96|greater_than_mean|  right tailed|\n",
      "|          FDH35|       12.6|         Low Fat|    0.059956876|       Starchy Foods|165.4526|           OUT027|                     1985|     Medium|              Tier 3|Supermarket Type3|        5262.4834|    Healthy|  Village|          3081.19|greater_than_mean|  right tailed|\n",
      "|          DRK12|       12.6|         Low Fat|    0.041683481|         Soft Drinks|   31.29|           OUT027|                     1985|     Medium|              Tier 3|Supermarket Type3|           898.83|    Healthy|  Village|         -1282.46|   less_than_mean|   Left tailed|\n",
      "|          FDR07|       12.6|         Low Fat|    0.077367431|Fruits and Vegeta...| 97.0094|           OUT027|                     1985|     Medium|              Tier 3|Supermarket Type3|        1808.9786|    Healthy|  Village|          -372.31|   less_than_mean|   Left tailed|\n",
      "|          NCB30|       12.6|         Low Fat|    0.025578526|           Household|198.8084|           OUT027|                     1985|     Medium|              Tier 3|Supermarket Type3|         5555.435|    Healthy|  Village|          3374.15|greater_than_mean|  right tailed|\n",
      "|          FDQ28|       12.6|         Regular|    0.060134441|        Frozen Foods|153.0656|           OUT027|                     1985|     Medium|              Tier 3|Supermarket Type3|         6024.158|Not Healthy|  Village|          3842.87|greater_than_mean|  right tailed|\n",
      "|          FDT12|       12.6|         Regular|    0.049381406|        Baking Goods|226.8062|           OUT027|                     1985|     Medium|              Tier 3|Supermarket Type3|          4739.83|Not Healthy|  Village|          2558.54|greater_than_mean|  right tailed|\n",
      "+---------------+-----------+----------------+---------------+--------------------+--------+-----------------+-------------------------+-----------+--------------------+-----------------+-----------------+-----------+---------+-----------------+-----------------+--------------+\n",
      "only showing top 21 rows\n",
      "\n"
     ]
    }
   ],
   "source": [
    "filter_by_weight.show(21)"
   ]
  },
  {
   "cell_type": "code",
   "execution_count": 13,
   "metadata": {},
   "outputs": [
    {
     "name": "stdout",
     "output_type": "stream",
     "text": [
      "+--------------------+-----------+\n",
      "|           Item_Type|Outlet_Size|\n",
      "+--------------------+-----------+\n",
      "|         Snack Foods|     Medium|\n",
      "|         Hard Drinks|     Medium|\n",
      "|        Baking Goods|     Medium|\n",
      "|Fruits and Vegeta...|     Medium|\n",
      "|         Snack Foods|     Medium|\n",
      "|         Snack Foods|     Medium|\n",
      "|        Baking Goods|     Medium|\n",
      "|           Breakfast|     Medium|\n",
      "|           Household|     Medium|\n",
      "|         Snack Foods|     Medium|\n",
      "|         Snack Foods|     Medium|\n",
      "|              Canned|     Medium|\n",
      "|  Health and Hygiene|     Medium|\n",
      "|       Starchy Foods|     Medium|\n",
      "|           Household|     Medium|\n",
      "|        Frozen Foods|     Medium|\n",
      "|        Baking Goods|     Medium|\n",
      "|           Household|     Medium|\n",
      "|               Dairy|     Medium|\n",
      "|              Canned|     Medium|\n",
      "|        Baking Goods|     Medium|\n",
      "|              Canned|     Medium|\n",
      "|           Household|     Medium|\n",
      "|             Seafood|     Medium|\n",
      "|         Hard Drinks|     Medium|\n",
      "|         Snack Foods|     Medium|\n",
      "|                Meat|     Medium|\n",
      "|         Snack Foods|     Medium|\n",
      "|           Household|     Medium|\n",
      "|           Breakfast|     Medium|\n",
      "|        Baking Goods|     Medium|\n",
      "|              Canned|     Medium|\n",
      "|Fruits and Vegeta...|     Medium|\n",
      "|         Hard Drinks|     Medium|\n",
      "|  Health and Hygiene|     Medium|\n",
      "|        Baking Goods|     Medium|\n",
      "|         Snack Foods|     Medium|\n",
      "|           Breakfast|     Medium|\n",
      "|              Canned|     Medium|\n",
      "|                Meat|     Medium|\n",
      "|Fruits and Vegeta...|     Medium|\n",
      "|Fruits and Vegeta...|     Medium|\n",
      "|         Snack Foods|     Medium|\n",
      "|         Hard Drinks|     Medium|\n",
      "|           Household|     Medium|\n",
      "|               Dairy|     Medium|\n",
      "|Fruits and Vegeta...|     Medium|\n",
      "|        Baking Goods|     Medium|\n",
      "|              Breads|     Medium|\n",
      "|Fruits and Vegeta...|     Medium|\n",
      "+--------------------+-----------+\n",
      "only showing top 50 rows\n",
      "\n"
     ]
    }
   ],
   "source": [
    "# filtering data on two features\n",
    "dataset.select('Item_Type','Outlet_Size').filter(\"Item_Outlet_Sales > 2000\").show(50)  "
   ]
  },
  {
   "cell_type": "markdown",
   "metadata": {},
   "source": [
    "# features description"
   ]
  },
  {
   "cell_type": "code",
   "execution_count": 14,
   "metadata": {},
   "outputs": [
    {
     "name": "stdout",
     "output_type": "stream",
     "text": [
      "+-------+---------------+------------------+----------------+--------------------+-------------+-----------------+-----------------+-------------------------+-----------+--------------------+-----------------+------------------+-----------+---------+--------------------+-----------------+--------------+\n",
      "|summary|Item_Identifier|       Item_Weight|Item_Fat_Content|     Item_Visibility|    Item_Type|         Item_MRP|Outlet_Identifier|Outlet_Establishment_Year|Outlet_Size|Outlet_Location_Type|      Outlet_Type| Item_Outlet_Sales|   Category|City_Type|   Variance_of_sales|  mean_comparison|Data_direction|\n",
      "+-------+---------------+------------------+----------------+--------------------+-------------+-----------------+-----------------+-------------------------+-----------+--------------------+-----------------+------------------+-----------+---------+--------------------+-----------------+--------------+\n",
      "|  count|           8523|              8523|            8523|                8523|         8523|             8523|             8523|                     8523|       8523|                8523|             8523|              8523|       8523|     8523|                8523|             8523|          8523|\n",
      "|   mean|           NULL|12.813419764553537|            NULL| 0.07021339065317383|         NULL|140.9927818804549|             NULL|       1997.8318667135984|       NULL|                NULL|             NULL| 2181.288914579888|       NULL|     NULL|2.065000587107672...|             NULL|          NULL|\n",
      "| stddev|           NULL| 4.227240492271024|            NULL|0.048741516050185334|         NULL| 62.2750663962414|             NULL|        8.371760408092676|       NULL|                NULL|             NULL|1706.4996158181946|       NULL|     NULL|  1706.4996719516328|             NULL|          NULL|\n",
      "|    min|          DRA12|             4.555|         Low Fat|         0.003574698| Baking Goods|            31.29|           OUT010|                     1985|       High|              Tier 1|Supermarket Type1|             33.29|    Healthy|    Metro|               -0.13|greater_than_mean|   Left tailed|\n",
      "|    max|          NCZ54|             21.35|         Regular|         0.328390948|Starchy Foods|         266.8884|           OUT049|                     2009|      Small|              Tier 3|Supermarket Type4|         13086.965|Not Healthy|  Village|              998.57|   less_than_mean|  right tailed|\n",
      "+-------+---------------+------------------+----------------+--------------------+-------------+-----------------+-----------------+-------------------------+-----------+--------------------+-----------------+------------------+-----------+---------+--------------------+-----------------+--------------+\n",
      "\n"
     ]
    }
   ],
   "source": [
    "dataset.describe().show() # same functionality as \"describe()\" function in pandas"
   ]
  },
  {
   "cell_type": "markdown",
   "metadata": {},
   "source": [
    "# groupby with count"
   ]
  },
  {
   "cell_type": "code",
   "execution_count": 15,
   "metadata": {},
   "outputs": [
    {
     "name": "stdout",
     "output_type": "stream",
     "text": [
      "+----------------+-----+\n",
      "|Item_Fat_Content|count|\n",
      "+----------------+-----+\n",
      "|         Low Fat| 5517|\n",
      "|         Regular| 3006|\n",
      "+----------------+-----+\n",
      "\n"
     ]
    }
   ],
   "source": [
    "dataset.groupby('Item_Fat_Content').count().show() # same as \"value_counts()\" for pandas"
   ]
  },
  {
   "cell_type": "markdown",
   "metadata": {},
   "source": [
    "# converting pyspark dataframe to pandas"
   ]
  },
  {
   "cell_type": "code",
   "execution_count": 16,
   "metadata": {},
   "outputs": [
    {
     "data": {
      "text/html": [
       "<div>\n",
       "<style scoped>\n",
       "    .dataframe tbody tr th:only-of-type {\n",
       "        vertical-align: middle;\n",
       "    }\n",
       "\n",
       "    .dataframe tbody tr th {\n",
       "        vertical-align: top;\n",
       "    }\n",
       "\n",
       "    .dataframe thead th {\n",
       "        text-align: right;\n",
       "    }\n",
       "</style>\n",
       "<table border=\"1\" class=\"dataframe\">\n",
       "  <thead>\n",
       "    <tr style=\"text-align: right;\">\n",
       "      <th></th>\n",
       "      <th>Item_Fat_Content</th>\n",
       "      <th>count</th>\n",
       "    </tr>\n",
       "  </thead>\n",
       "  <tbody>\n",
       "    <tr>\n",
       "      <th>0</th>\n",
       "      <td>Low Fat</td>\n",
       "      <td>5517</td>\n",
       "    </tr>\n",
       "    <tr>\n",
       "      <th>1</th>\n",
       "      <td>Regular</td>\n",
       "      <td>3006</td>\n",
       "    </tr>\n",
       "  </tbody>\n",
       "</table>\n",
       "</div>"
      ],
      "text/plain": [
       "  Item_Fat_Content  count\n",
       "0          Low Fat   5517\n",
       "1          Regular   3006"
      ]
     },
     "execution_count": 16,
     "metadata": {},
     "output_type": "execute_result"
    }
   ],
   "source": [
    "dataset.groupby('Item_Fat_Content').count().toPandas()   # displaying record in pandas"
   ]
  },
  {
   "cell_type": "markdown",
   "metadata": {},
   "source": [
    "# groupby aggregate functions"
   ]
  },
  {
   "cell_type": "code",
   "execution_count": 17,
   "metadata": {},
   "outputs": [
    {
     "name": "stdout",
     "output_type": "stream",
     "text": [
      "+----------------+-----------------+------------------+----------------------+\n",
      "|Item_Fat_Content|      Outlet_Type|     avg(Item_MRP)|avg(Item_Outlet_Sales)|\n",
      "+----------------+-----------------+------------------+----------------------+\n",
      "|         Low Fat|Supermarket Type3| 138.4701006613487|    3643.9465082341976|\n",
      "|         Low Fat|Supermarket Type2|141.88061356305278|    2008.8711346272241|\n",
      "|         Low Fat|Supermarket Type1|140.72770716127314|    2288.0356293845025|\n",
      "|         Low Fat|Supermarket Type4| 141.5806591331536|    341.39201943147265|\n",
      "|         Regular|Supermarket Type3| 142.2432228897557|     3785.873982654918|\n",
      "|         Regular|Supermarket Type4|137.89624885276513|    336.91241408655884|\n",
      "|         Regular|Supermarket Type2|141.31262228994657|    1971.2663408915203|\n",
      "|         Regular|Supermarket Type1| 142.1054834078967|    2367.7955709007697|\n",
      "+----------------+-----------------+------------------+----------------------+\n",
      "\n"
     ]
    }
   ],
   "source": [
    "dataset.groupby(['Item_Fat_Content','Outlet_Type']).agg({'Item_Outlet_Sales': 'mean','Item_MRP': \"mean\"}).show() # group by with average value"
   ]
  },
  {
   "cell_type": "code",
   "execution_count": 18,
   "metadata": {},
   "outputs": [
    {
     "data": {
      "text/html": [
       "<div>\n",
       "<style scoped>\n",
       "    .dataframe tbody tr th:only-of-type {\n",
       "        vertical-align: middle;\n",
       "    }\n",
       "\n",
       "    .dataframe tbody tr th {\n",
       "        vertical-align: top;\n",
       "    }\n",
       "\n",
       "    .dataframe thead th {\n",
       "        text-align: right;\n",
       "    }\n",
       "</style>\n",
       "<table border=\"1\" class=\"dataframe\">\n",
       "  <thead>\n",
       "    <tr style=\"text-align: right;\">\n",
       "      <th></th>\n",
       "      <th>Outlet_Type</th>\n",
       "      <th>avg(Item_MRP)</th>\n",
       "      <th>avg(Item_Outlet_Sales)</th>\n",
       "    </tr>\n",
       "    <tr>\n",
       "      <th>Item_Fat_Content</th>\n",
       "      <th></th>\n",
       "      <th></th>\n",
       "      <th></th>\n",
       "    </tr>\n",
       "  </thead>\n",
       "  <tbody>\n",
       "    <tr>\n",
       "      <th>Low Fat</th>\n",
       "      <td>Supermarket Type3</td>\n",
       "      <td>138.470101</td>\n",
       "      <td>3643.946508</td>\n",
       "    </tr>\n",
       "    <tr>\n",
       "      <th>Low Fat</th>\n",
       "      <td>Supermarket Type2</td>\n",
       "      <td>141.880614</td>\n",
       "      <td>2008.871135</td>\n",
       "    </tr>\n",
       "    <tr>\n",
       "      <th>Low Fat</th>\n",
       "      <td>Supermarket Type1</td>\n",
       "      <td>140.727707</td>\n",
       "      <td>2288.035629</td>\n",
       "    </tr>\n",
       "    <tr>\n",
       "      <th>Low Fat</th>\n",
       "      <td>Supermarket Type4</td>\n",
       "      <td>141.580659</td>\n",
       "      <td>341.392019</td>\n",
       "    </tr>\n",
       "    <tr>\n",
       "      <th>Regular</th>\n",
       "      <td>Supermarket Type3</td>\n",
       "      <td>142.243223</td>\n",
       "      <td>3785.873983</td>\n",
       "    </tr>\n",
       "    <tr>\n",
       "      <th>Regular</th>\n",
       "      <td>Supermarket Type4</td>\n",
       "      <td>137.896249</td>\n",
       "      <td>336.912414</td>\n",
       "    </tr>\n",
       "    <tr>\n",
       "      <th>Regular</th>\n",
       "      <td>Supermarket Type2</td>\n",
       "      <td>141.312622</td>\n",
       "      <td>1971.266341</td>\n",
       "    </tr>\n",
       "    <tr>\n",
       "      <th>Regular</th>\n",
       "      <td>Supermarket Type1</td>\n",
       "      <td>142.105483</td>\n",
       "      <td>2367.795571</td>\n",
       "    </tr>\n",
       "  </tbody>\n",
       "</table>\n",
       "</div>"
      ],
      "text/plain": [
       "                        Outlet_Type  avg(Item_MRP)  avg(Item_Outlet_Sales)\n",
       "Item_Fat_Content                                                          \n",
       "Low Fat           Supermarket Type3     138.470101             3643.946508\n",
       "Low Fat           Supermarket Type2     141.880614             2008.871135\n",
       "Low Fat           Supermarket Type1     140.727707             2288.035629\n",
       "Low Fat           Supermarket Type4     141.580659              341.392019\n",
       "Regular           Supermarket Type3     142.243223             3785.873983\n",
       "Regular           Supermarket Type4     137.896249              336.912414\n",
       "Regular           Supermarket Type2     141.312622             1971.266341\n",
       "Regular           Supermarket Type1     142.105483             2367.795571"
      ]
     },
     "execution_count": 18,
     "metadata": {},
     "output_type": "execute_result"
    }
   ],
   "source": [
    "dataset.groupby(['Item_Fat_Content','Outlet_Type']).agg({'Item_Outlet_Sales': 'mean','Item_MRP': \"mean\"}).toPandas().set_index('Item_Fat_Content')"
   ]
  },
  {
   "cell_type": "code",
   "execution_count": 19,
   "metadata": {},
   "outputs": [],
   "source": [
    "# creating a new feature\n",
    "mean_value = dataset.select('Item_Outlet_Sales').agg({'Item_Outlet_Sales': 'mean'}).collect()[0][0]\n",
    "new_dataset = dataset.withColumn('reduced_to_mean', dataset.Item_Outlet_Sales / mean_value)"
   ]
  },
  {
   "cell_type": "code",
   "execution_count": 20,
   "metadata": {},
   "outputs": [
    {
     "name": "stdout",
     "output_type": "stream",
     "text": [
      "+---------------+-----------+----------------+---------------+--------------------+--------+-----------------+-------------------------+-----------+--------------------+-----------------+-----------------+-----------+---------+-----------------+-----------------+--------------+-------------------+\n",
      "|Item_Identifier|Item_Weight|Item_Fat_Content|Item_Visibility|           Item_Type|Item_MRP|Outlet_Identifier|Outlet_Establishment_Year|Outlet_Size|Outlet_Location_Type|      Outlet_Type|Item_Outlet_Sales|   Category|City_Type|Variance_of_sales|  mean_comparison|Data_direction|    reduced_to_mean|\n",
      "+---------------+-----------+----------------+---------------+--------------------+--------+-----------------+-------------------------+-----------+--------------------+-----------------+-----------------+-----------+---------+-----------------+-----------------+--------------+-------------------+\n",
      "|          FDP10|       12.6|         Low Fat|    0.127469857|         Snack Foods|107.7622|           OUT027|                     1985|     Medium|              Tier 3|Supermarket Type3|        4022.7637|    Healthy|  Village|          1841.47|greater_than_mean|   Left tailed|  1.844214053895642|\n",
      "|          DRI11|       12.6|         Low Fat|    0.034237682|         Hard Drinks|113.2834|           OUT027|                     1985|     Medium|              Tier 3|Supermarket Type3|         2303.668|    Healthy|  Village|           122.38|greater_than_mean|   Left tailed|  1.056104009584481|\n",
      "|          FDW12|       12.6|         Regular|    0.035399923|        Baking Goods|144.5444|           OUT027|                     1985|     Medium|              Tier 3|Supermarket Type3|        4064.0432|Not Healthy|  Village|          1882.75|greater_than_mean|   Left tailed|  1.863138434219454|\n",
      "|          FDV20|       12.6|         Regular|    0.059511812|Fruits and Vegeta...|128.0678|           OUT027|                     1985|     Medium|              Tier 3|Supermarket Type3|        2797.6917|Not Healthy|  Village|            616.4|greater_than_mean|   Left tailed| 1.2825864706369972|\n",
      "|          FDX10|       12.6|         Regular|    0.123111453|         Snack Foods| 36.9874|           OUT027|                     1985|     Medium|              Tier 3|Supermarket Type3|         388.1614|Not Healthy|  Village|         -1793.13|   less_than_mean|   Left tailed|0.17795047913011663|\n",
      "|          FDB34|       12.6|         Low Fat|    0.026480954|         Snack Foods| 87.6198|           OUT027|                     1985|     Medium|              Tier 3|Supermarket Type3|         2180.495|    Healthy|  Village|            -0.79|   less_than_mean|   Left tailed| 0.9996360879170648|\n",
      "|          FDF09|       12.6|         Low Fat|    0.012090074|Fruits and Vegeta...| 38.2848|           OUT027|                     1985|     Medium|              Tier 3|Supermarket Type3|         484.7024|    Healthy|  Village|         -1696.59|   less_than_mean|   Left tailed| 0.2222091669463592|\n",
      "|          FDY45|       12.6|         Low Fat|    0.026015519|         Snack Foods|255.8356|           OUT027|                     1985|     Medium|              Tier 3|Supermarket Type3|         2543.356|    Healthy|  Village|           362.07|greater_than_mean|   Left tailed|  1.165987659879111|\n",
      "|          FDR12|       12.6|         Regular|    0.031382044|        Baking Goods|171.3764|           OUT027|                     1985|     Medium|              Tier 3|Supermarket Type3|         3091.975|Not Healthy|  Village|           910.69|greater_than_mean|   Left tailed| 1.4174991111857176|\n",
      "|          FDQ49|       12.6|         Regular|    0.039057677|           Breakfast| 155.963|           OUT027|                     1985|     Medium|              Tier 3|Supermarket Type3|         3285.723|Not Healthy|  Village|          1104.43|greater_than_mean|   Left tailed| 1.5063217341034572|\n",
      "|          NCP18|       12.6|         Low Fat|    0.028459761|           Household|149.9708|           OUT027|                     1985|     Medium|              Tier 3|Supermarket Type3|        4363.6533|    Healthy|  Village|          2182.36|greater_than_mean|  right tailed| 2.0004930530502105|\n",
      "|          FDD10|       12.6|         Regular|    0.045797829|         Snack Foods|178.5344|           OUT027|                     1985|     Medium|              Tier 3|Supermarket Type3|        2854.9504|Not Healthy|  Village|           673.66|greater_than_mean|   Left tailed| 1.3088364500321052|\n",
      "|          FDX34|       12.6|         Low Fat|    0.071636937|         Snack Foods|121.7098|           OUT027|                     1985|     Medium|              Tier 3|Supermarket Type3|         4097.333|    Healthy|  Village|          1916.04|greater_than_mean|   Left tailed| 1.8783999590451492|\n",
      "|          FDY25|       12.6|         Low Fat|    0.033809913|              Canned|180.5976|           OUT027|                     1985|     Medium|              Tier 3|Supermarket Type3|        7968.2944|    Healthy|  Village|          5787.01|greater_than_mean|  right tailed|  3.653021101575821|\n",
      "|          NCR53|       12.6|         Low Fat|    0.144338493|  Health and Hygiene|224.4404|           OUT027|                     1985|     Medium|              Tier 3|Supermarket Type3|        6976.2524|    Healthy|  Village|          4794.96|greater_than_mean|  right tailed| 3.1982248636466677|\n",
      "|          FDH35|       12.6|         Low Fat|    0.059956876|       Starchy Foods|165.4526|           OUT027|                     1985|     Medium|              Tier 3|Supermarket Type3|        5262.4834|    Healthy|  Village|          3081.19|greater_than_mean|  right tailed| 2.4125567976175426|\n",
      "|          DRK12|       12.6|         Low Fat|    0.041683481|         Soft Drinks|   31.29|           OUT027|                     1985|     Medium|              Tier 3|Supermarket Type3|           898.83|    Healthy|  Village|         -1282.46|   less_than_mean|   Left tailed|0.41206371658609775|\n",
      "|          FDR07|       12.6|         Low Fat|    0.077367431|Fruits and Vegeta...| 97.0094|           OUT027|                     1985|     Medium|              Tier 3|Supermarket Type3|        1808.9786|    Healthy|  Village|          -372.31|   less_than_mean|   Left tailed| 0.8293163851904131|\n",
      "|          NCB30|       12.6|         Low Fat|    0.025578526|           Household|198.8084|           OUT027|                     1985|     Medium|              Tier 3|Supermarket Type3|         5555.435|    Healthy|  Village|          3374.15|greater_than_mean|  right tailed| 2.5468588876332854|\n",
      "|          FDQ28|       12.6|         Regular|    0.060134441|        Frozen Foods|153.0656|           OUT027|                     1985|     Medium|              Tier 3|Supermarket Type3|         6024.158|Not Healthy|  Village|          3842.87|greater_than_mean|  right tailed| 2.7617424555083483|\n",
      "+---------------+-----------+----------------+---------------+--------------------+--------+-----------------+-------------------------+-----------+--------------------+-----------------+-----------------+-----------+---------+-----------------+-----------------+--------------+-------------------+\n",
      "only showing top 20 rows\n",
      "\n"
     ]
    }
   ],
   "source": [
    "new_dataset.show()"
   ]
  },
  {
   "cell_type": "markdown",
   "metadata": {},
   "source": [
    "# counting total null values for individual feature"
   ]
  },
  {
   "cell_type": "markdown",
   "metadata": {},
   "source": [
    "Null Values In the Dataframe"
   ]
  },
  {
   "cell_type": "code",
   "execution_count": 21,
   "metadata": {},
   "outputs": [
    {
     "name": "stdout",
     "output_type": "stream",
     "text": [
      "+---------------+-----------+----------------+---------------+---------+--------+-----------------+-------------------------+-----------+--------------------+-----------+-----------------+--------+---------+-----------------+---------------+--------------+\n",
      "|Item_Identifier|Item_Weight|Item_Fat_Content|Item_Visibility|Item_Type|Item_MRP|Outlet_Identifier|Outlet_Establishment_Year|Outlet_Size|Outlet_Location_Type|Outlet_Type|Item_Outlet_Sales|Category|City_Type|Variance_of_sales|mean_comparison|Data_direction|\n",
      "+---------------+-----------+----------------+---------------+---------+--------+-----------------+-------------------------+-----------+--------------------+-----------+-----------------+--------+---------+-----------------+---------------+--------------+\n",
      "|              0|          0|               0|              0|        0|       0|                0|                        0|          0|                   0|          0|                0|       0|        0|                0|              0|             0|\n",
      "+---------------+-----------+----------------+---------------+---------+--------+-----------------+-------------------------+-----------+--------------------+-----------+-----------------+--------+---------+-----------------+---------------+--------------+\n",
      "\n"
     ]
    }
   ],
   "source": [
    "# display the total null values in the features\n",
    "null_values = dataset.select([count(when(col(c).isNull(),c)).alias(c) for c in dataset.columns])\n",
    "null_values.show()"
   ]
  },
  {
   "cell_type": "markdown",
   "metadata": {},
   "source": [
    "total columns in the dataframe same as pandas \"columns\" attribute"
   ]
  },
  {
   "cell_type": "code",
   "execution_count": 22,
   "metadata": {},
   "outputs": [
    {
     "data": {
      "text/plain": [
       "['Item_Identifier',\n",
       " 'Item_Weight',\n",
       " 'Item_Fat_Content',\n",
       " 'Item_Visibility',\n",
       " 'Item_Type',\n",
       " 'Item_MRP',\n",
       " 'Outlet_Identifier',\n",
       " 'Outlet_Establishment_Year',\n",
       " 'Outlet_Size',\n",
       " 'Outlet_Location_Type',\n",
       " 'Outlet_Type',\n",
       " 'Item_Outlet_Sales',\n",
       " 'Category',\n",
       " 'City_Type',\n",
       " 'Variance_of_sales',\n",
       " 'mean_comparison',\n",
       " 'Data_direction']"
      ]
     },
     "execution_count": 22,
     "metadata": {},
     "output_type": "execute_result"
    }
   ],
   "source": [
    "dataset.columns # returen list of columns"
   ]
  },
  {
   "cell_type": "markdown",
   "metadata": {},
   "source": [
    "# Selecting features for prediction"
   ]
  },
  {
   "cell_type": "code",
   "execution_count": 23,
   "metadata": {},
   "outputs": [],
   "source": [
    "new_dataset = dataset.select(\"Item_Weight\",\"Item_Type\",\"Outlet_Size\",\"Item_MRP\",\"Item_Outlet_Sales\") # featur selection"
   ]
  },
  {
   "cell_type": "code",
   "execution_count": 24,
   "metadata": {},
   "outputs": [
    {
     "name": "stdout",
     "output_type": "stream",
     "text": [
      "+-----------+--------------------+-----------+--------+-----------------+\n",
      "|Item_Weight|           Item_Type|Outlet_Size|Item_MRP|Item_Outlet_Sales|\n",
      "+-----------+--------------------+-----------+--------+-----------------+\n",
      "|       12.6|         Snack Foods|     Medium|107.7622|        4022.7637|\n",
      "|       12.6|         Hard Drinks|     Medium|113.2834|         2303.668|\n",
      "|       12.6|        Baking Goods|     Medium|144.5444|        4064.0432|\n",
      "|       12.6|Fruits and Vegeta...|     Medium|128.0678|        2797.6917|\n",
      "|       12.6|         Snack Foods|     Medium| 36.9874|         388.1614|\n",
      "|       12.6|         Snack Foods|     Medium| 87.6198|         2180.495|\n",
      "|       12.6|Fruits and Vegeta...|     Medium| 38.2848|         484.7024|\n",
      "|       12.6|         Snack Foods|     Medium|255.8356|         2543.356|\n",
      "|       12.6|        Baking Goods|     Medium|171.3764|         3091.975|\n",
      "|       12.6|           Breakfast|     Medium| 155.963|         3285.723|\n",
      "|       12.6|           Household|     Medium|149.9708|        4363.6533|\n",
      "|       12.6|         Snack Foods|     Medium|178.5344|        2854.9504|\n",
      "|       12.6|         Snack Foods|     Medium|121.7098|         4097.333|\n",
      "|       12.6|              Canned|     Medium|180.5976|        7968.2944|\n",
      "|       12.6|  Health and Hygiene|     Medium|224.4404|        6976.2524|\n",
      "|       12.6|       Starchy Foods|     Medium|165.4526|        5262.4834|\n",
      "|       12.6|         Soft Drinks|     Medium|   31.29|           898.83|\n",
      "|       12.6|Fruits and Vegeta...|     Medium| 97.0094|        1808.9786|\n",
      "|       12.6|           Household|     Medium|198.8084|         5555.435|\n",
      "|       12.6|        Frozen Foods|     Medium|153.0656|         6024.158|\n",
      "+-----------+--------------------+-----------+--------+-----------------+\n",
      "only showing top 20 rows\n",
      "\n"
     ]
    }
   ],
   "source": [
    "new_dataset.show()"
   ]
  },
  {
   "cell_type": "code",
   "execution_count": 25,
   "metadata": {},
   "outputs": [],
   "source": [
    "independent_features = new_dataset.drop(\"Item_Outlet_Sales\")"
   ]
  },
  {
   "cell_type": "code",
   "execution_count": 26,
   "metadata": {},
   "outputs": [
    {
     "name": "stdout",
     "output_type": "stream",
     "text": [
      "+-----------+--------------------+-----------+--------+\n",
      "|Item_Weight|           Item_Type|Outlet_Size|Item_MRP|\n",
      "+-----------+--------------------+-----------+--------+\n",
      "|       12.6|         Snack Foods|     Medium|107.7622|\n",
      "|       12.6|         Hard Drinks|     Medium|113.2834|\n",
      "|       12.6|        Baking Goods|     Medium|144.5444|\n",
      "|       12.6|Fruits and Vegeta...|     Medium|128.0678|\n",
      "|       12.6|         Snack Foods|     Medium| 36.9874|\n",
      "|       12.6|         Snack Foods|     Medium| 87.6198|\n",
      "|       12.6|Fruits and Vegeta...|     Medium| 38.2848|\n",
      "|       12.6|         Snack Foods|     Medium|255.8356|\n",
      "|       12.6|        Baking Goods|     Medium|171.3764|\n",
      "|       12.6|           Breakfast|     Medium| 155.963|\n",
      "|       12.6|           Household|     Medium|149.9708|\n",
      "|       12.6|         Snack Foods|     Medium|178.5344|\n",
      "|       12.6|         Snack Foods|     Medium|121.7098|\n",
      "|       12.6|              Canned|     Medium|180.5976|\n",
      "|       12.6|  Health and Hygiene|     Medium|224.4404|\n",
      "|       12.6|       Starchy Foods|     Medium|165.4526|\n",
      "|       12.6|         Soft Drinks|     Medium|   31.29|\n",
      "|       12.6|Fruits and Vegeta...|     Medium| 97.0094|\n",
      "|       12.6|           Household|     Medium|198.8084|\n",
      "|       12.6|        Frozen Foods|     Medium|153.0656|\n",
      "+-----------+--------------------+-----------+--------+\n",
      "only showing top 20 rows\n",
      "\n"
     ]
    }
   ],
   "source": [
    "independent_features.show()"
   ]
  },
  {
   "cell_type": "code",
   "execution_count": 27,
   "metadata": {},
   "outputs": [
    {
     "name": "stdout",
     "output_type": "stream",
     "text": [
      "root\n",
      " |-- Item_Weight: float (nullable = true)\n",
      " |-- Item_Type: string (nullable = true)\n",
      " |-- Outlet_Size: string (nullable = true)\n",
      " |-- Item_MRP: float (nullable = true)\n",
      " |-- Item_Outlet_Sales: float (nullable = true)\n",
      "\n"
     ]
    }
   ],
   "source": [
    "new_dataset.printSchema()"
   ]
  },
  {
   "cell_type": "code",
   "execution_count": 28,
   "metadata": {},
   "outputs": [
    {
     "name": "stdout",
     "output_type": "stream",
     "text": [
      "root\n",
      " |-- Item_Weight: float (nullable = true)\n",
      " |-- Item_Type: string (nullable = true)\n",
      " |-- Outlet_Size: string (nullable = true)\n",
      " |-- Item_MRP: float (nullable = true)\n",
      " |-- Item_Outlet_Sales: float (nullable = true)\n",
      "\n"
     ]
    }
   ],
   "source": [
    "new_dataset.printSchema()"
   ]
  },
  {
   "cell_type": "code",
   "execution_count": 29,
   "metadata": {},
   "outputs": [],
   "source": [
    "string_columns = [col_name for col_name, col_type in new_dataset.dtypes if col_type == \"string\"]"
   ]
  },
  {
   "cell_type": "markdown",
   "metadata": {},
   "source": [
    "# Data Encoding (creating dummies)"
   ]
  },
  {
   "cell_type": "code",
   "execution_count": 30,
   "metadata": {},
   "outputs": [
    {
     "name": "stdout",
     "output_type": "stream",
     "text": [
      "+-----------+--------------------+-----------+--------+-----------------+---------------+-----------------+-----------------+-------------------+\n",
      "|Item_Weight|           Item_Type|Outlet_Size|Item_MRP|Item_Outlet_Sales|Item_Type_index|Item_Type_encoded|Outlet_Size_index|Outlet_Size_encoded|\n",
      "+-----------+--------------------+-----------+--------+-----------------+---------------+-----------------+-----------------+-------------------+\n",
      "|       12.6|         Snack Foods|     Medium|107.7622|        4022.7637|            1.0|   (15,[1],[1.0])|              0.0|      (2,[0],[1.0])|\n",
      "|       12.6|         Hard Drinks|     Medium|113.2834|         2303.668|           11.0|  (15,[11],[1.0])|              0.0|      (2,[0],[1.0])|\n",
      "|       12.6|        Baking Goods|     Medium|144.5444|        4064.0432|            6.0|   (15,[6],[1.0])|              0.0|      (2,[0],[1.0])|\n",
      "|       12.6|Fruits and Vegeta...|     Medium|128.0678|        2797.6917|            0.0|   (15,[0],[1.0])|              0.0|      (2,[0],[1.0])|\n",
      "|       12.6|         Snack Foods|     Medium| 36.9874|         388.1614|            1.0|   (15,[1],[1.0])|              0.0|      (2,[0],[1.0])|\n",
      "|       12.6|         Snack Foods|     Medium| 87.6198|         2180.495|            1.0|   (15,[1],[1.0])|              0.0|      (2,[0],[1.0])|\n",
      "|       12.6|Fruits and Vegeta...|     Medium| 38.2848|         484.7024|            0.0|   (15,[0],[1.0])|              0.0|      (2,[0],[1.0])|\n",
      "|       12.6|         Snack Foods|     Medium|255.8356|         2543.356|            1.0|   (15,[1],[1.0])|              0.0|      (2,[0],[1.0])|\n",
      "|       12.6|        Baking Goods|     Medium|171.3764|         3091.975|            6.0|   (15,[6],[1.0])|              0.0|      (2,[0],[1.0])|\n",
      "|       12.6|           Breakfast|     Medium| 155.963|         3285.723|           14.0|  (15,[14],[1.0])|              0.0|      (2,[0],[1.0])|\n",
      "|       12.6|           Household|     Medium|149.9708|        4363.6533|            2.0|   (15,[2],[1.0])|              0.0|      (2,[0],[1.0])|\n",
      "|       12.6|         Snack Foods|     Medium|178.5344|        2854.9504|            1.0|   (15,[1],[1.0])|              0.0|      (2,[0],[1.0])|\n",
      "|       12.6|         Snack Foods|     Medium|121.7098|         4097.333|            1.0|   (15,[1],[1.0])|              0.0|      (2,[0],[1.0])|\n",
      "|       12.6|              Canned|     Medium|180.5976|        7968.2944|            5.0|   (15,[5],[1.0])|              0.0|      (2,[0],[1.0])|\n",
      "|       12.6|  Health and Hygiene|     Medium|224.4404|        6976.2524|            7.0|   (15,[7],[1.0])|              0.0|      (2,[0],[1.0])|\n",
      "|       12.6|       Starchy Foods|     Medium|165.4526|        5262.4834|           13.0|  (15,[13],[1.0])|              0.0|      (2,[0],[1.0])|\n",
      "|       12.6|         Soft Drinks|     Medium|   31.29|           898.83|            8.0|   (15,[8],[1.0])|              0.0|      (2,[0],[1.0])|\n",
      "|       12.6|Fruits and Vegeta...|     Medium| 97.0094|        1808.9786|            0.0|   (15,[0],[1.0])|              0.0|      (2,[0],[1.0])|\n",
      "|       12.6|           Household|     Medium|198.8084|         5555.435|            2.0|   (15,[2],[1.0])|              0.0|      (2,[0],[1.0])|\n",
      "|       12.6|        Frozen Foods|     Medium|153.0656|         6024.158|            3.0|   (15,[3],[1.0])|              0.0|      (2,[0],[1.0])|\n",
      "+-----------+--------------------+-----------+--------+-----------------+---------------+-----------------+-----------------+-------------------+\n",
      "only showing top 20 rows\n",
      "\n"
     ]
    }
   ],
   "source": [
    "# onehotencodeing for the categorical features\n",
    "stages = []\n",
    "\n",
    "for col in string_columns:\n",
    "   \n",
    "    string_indexer = StringIndexer(inputCol=col, outputCol=col + \"_index\")\n",
    "    one_hot_encoder = OneHotEncoder(inputCol=col + \"_index\", outputCol=col + \"_encoded\")\n",
    "    stages += [string_indexer, one_hot_encoder]\n",
    "\n",
    "pipeline = Pipeline(stages=stages)\n",
    "pipeline_model = pipeline.fit(new_dataset)\n",
    "transformed_df = pipeline_model.transform(new_dataset)\n",
    "transformed_df.show()"
   ]
  },
  {
   "cell_type": "markdown",
   "metadata": {},
   "source": [
    "# dropping unwanted columns"
   ]
  },
  {
   "cell_type": "code",
   "execution_count": 31,
   "metadata": {},
   "outputs": [],
   "source": [
    "final_dataframe = transformed_df.drop('Item_Type','Outlet_Size','Item_Type_index','Outlet_Size_index')"
   ]
  },
  {
   "cell_type": "code",
   "execution_count": 32,
   "metadata": {},
   "outputs": [
    {
     "name": "stdout",
     "output_type": "stream",
     "text": [
      "+-----------+--------+-----------------+-----------------+-------------------+\n",
      "|Item_Weight|Item_MRP|Item_Outlet_Sales|Item_Type_encoded|Outlet_Size_encoded|\n",
      "+-----------+--------+-----------------+-----------------+-------------------+\n",
      "|       12.6|107.7622|        4022.7637|   (15,[1],[1.0])|      (2,[0],[1.0])|\n",
      "|       12.6|113.2834|         2303.668|  (15,[11],[1.0])|      (2,[0],[1.0])|\n",
      "|       12.6|144.5444|        4064.0432|   (15,[6],[1.0])|      (2,[0],[1.0])|\n",
      "|       12.6|128.0678|        2797.6917|   (15,[0],[1.0])|      (2,[0],[1.0])|\n",
      "|       12.6| 36.9874|         388.1614|   (15,[1],[1.0])|      (2,[0],[1.0])|\n",
      "|       12.6| 87.6198|         2180.495|   (15,[1],[1.0])|      (2,[0],[1.0])|\n",
      "|       12.6| 38.2848|         484.7024|   (15,[0],[1.0])|      (2,[0],[1.0])|\n",
      "|       12.6|255.8356|         2543.356|   (15,[1],[1.0])|      (2,[0],[1.0])|\n",
      "|       12.6|171.3764|         3091.975|   (15,[6],[1.0])|      (2,[0],[1.0])|\n",
      "|       12.6| 155.963|         3285.723|  (15,[14],[1.0])|      (2,[0],[1.0])|\n",
      "|       12.6|149.9708|        4363.6533|   (15,[2],[1.0])|      (2,[0],[1.0])|\n",
      "|       12.6|178.5344|        2854.9504|   (15,[1],[1.0])|      (2,[0],[1.0])|\n",
      "|       12.6|121.7098|         4097.333|   (15,[1],[1.0])|      (2,[0],[1.0])|\n",
      "|       12.6|180.5976|        7968.2944|   (15,[5],[1.0])|      (2,[0],[1.0])|\n",
      "|       12.6|224.4404|        6976.2524|   (15,[7],[1.0])|      (2,[0],[1.0])|\n",
      "|       12.6|165.4526|        5262.4834|  (15,[13],[1.0])|      (2,[0],[1.0])|\n",
      "|       12.6|   31.29|           898.83|   (15,[8],[1.0])|      (2,[0],[1.0])|\n",
      "|       12.6| 97.0094|        1808.9786|   (15,[0],[1.0])|      (2,[0],[1.0])|\n",
      "|       12.6|198.8084|         5555.435|   (15,[2],[1.0])|      (2,[0],[1.0])|\n",
      "|       12.6|153.0656|         6024.158|   (15,[3],[1.0])|      (2,[0],[1.0])|\n",
      "+-----------+--------+-----------------+-----------------+-------------------+\n",
      "only showing top 20 rows\n",
      "\n"
     ]
    }
   ],
   "source": [
    "final_dataframe.show()"
   ]
  },
  {
   "cell_type": "markdown",
   "metadata": {},
   "source": [
    "# creating feature vectors using VectorAssembler"
   ]
  },
  {
   "cell_type": "code",
   "execution_count": 33,
   "metadata": {},
   "outputs": [],
   "source": [
    "x = final_dataframe.drop('Item_Outlet_Sales')"
   ]
  },
  {
   "cell_type": "code",
   "execution_count": 34,
   "metadata": {},
   "outputs": [
    {
     "name": "stdout",
     "output_type": "stream",
     "text": [
      "+-----------+--------+-----------------+-------------------+\n",
      "|Item_Weight|Item_MRP|Item_Type_encoded|Outlet_Size_encoded|\n",
      "+-----------+--------+-----------------+-------------------+\n",
      "|       12.6|107.7622|   (15,[1],[1.0])|      (2,[0],[1.0])|\n",
      "|       12.6|113.2834|  (15,[11],[1.0])|      (2,[0],[1.0])|\n",
      "|       12.6|144.5444|   (15,[6],[1.0])|      (2,[0],[1.0])|\n",
      "|       12.6|128.0678|   (15,[0],[1.0])|      (2,[0],[1.0])|\n",
      "|       12.6| 36.9874|   (15,[1],[1.0])|      (2,[0],[1.0])|\n",
      "|       12.6| 87.6198|   (15,[1],[1.0])|      (2,[0],[1.0])|\n",
      "|       12.6| 38.2848|   (15,[0],[1.0])|      (2,[0],[1.0])|\n",
      "|       12.6|255.8356|   (15,[1],[1.0])|      (2,[0],[1.0])|\n",
      "|       12.6|171.3764|   (15,[6],[1.0])|      (2,[0],[1.0])|\n",
      "|       12.6| 155.963|  (15,[14],[1.0])|      (2,[0],[1.0])|\n",
      "|       12.6|149.9708|   (15,[2],[1.0])|      (2,[0],[1.0])|\n",
      "|       12.6|178.5344|   (15,[1],[1.0])|      (2,[0],[1.0])|\n",
      "|       12.6|121.7098|   (15,[1],[1.0])|      (2,[0],[1.0])|\n",
      "|       12.6|180.5976|   (15,[5],[1.0])|      (2,[0],[1.0])|\n",
      "|       12.6|224.4404|   (15,[7],[1.0])|      (2,[0],[1.0])|\n",
      "|       12.6|165.4526|  (15,[13],[1.0])|      (2,[0],[1.0])|\n",
      "|       12.6|   31.29|   (15,[8],[1.0])|      (2,[0],[1.0])|\n",
      "|       12.6| 97.0094|   (15,[0],[1.0])|      (2,[0],[1.0])|\n",
      "|       12.6|198.8084|   (15,[2],[1.0])|      (2,[0],[1.0])|\n",
      "|       12.6|153.0656|   (15,[3],[1.0])|      (2,[0],[1.0])|\n",
      "+-----------+--------+-----------------+-------------------+\n",
      "only showing top 20 rows\n",
      "\n"
     ]
    }
   ],
   "source": [
    "x.show()"
   ]
  },
  {
   "cell_type": "code",
   "execution_count": 35,
   "metadata": {},
   "outputs": [],
   "source": [
    "# converting input features as vectors\n",
    "assembler = VectorAssembler(inputCols=x.columns, outputCol=\"features\")\n",
    "output = assembler.transform(final_dataframe)\n"
   ]
  },
  {
   "cell_type": "code",
   "execution_count": 36,
   "metadata": {},
   "outputs": [
    {
     "name": "stdout",
     "output_type": "stream",
     "text": [
      "+-----------+--------+-----------------+-----------------+-------------------+--------------------+\n",
      "|Item_Weight|Item_MRP|Item_Outlet_Sales|Item_Type_encoded|Outlet_Size_encoded|            features|\n",
      "+-----------+--------+-----------------+-----------------+-------------------+--------------------+\n",
      "|       12.6|107.7622|        4022.7637|   (15,[1],[1.0])|      (2,[0],[1.0])|(19,[0,1,3,17],[1...|\n",
      "|       12.6|113.2834|         2303.668|  (15,[11],[1.0])|      (2,[0],[1.0])|(19,[0,1,13,17],[...|\n",
      "|       12.6|144.5444|        4064.0432|   (15,[6],[1.0])|      (2,[0],[1.0])|(19,[0,1,8,17],[1...|\n",
      "|       12.6|128.0678|        2797.6917|   (15,[0],[1.0])|      (2,[0],[1.0])|(19,[0,1,2,17],[1...|\n",
      "|       12.6| 36.9874|         388.1614|   (15,[1],[1.0])|      (2,[0],[1.0])|(19,[0,1,3,17],[1...|\n",
      "|       12.6| 87.6198|         2180.495|   (15,[1],[1.0])|      (2,[0],[1.0])|(19,[0,1,3,17],[1...|\n",
      "|       12.6| 38.2848|         484.7024|   (15,[0],[1.0])|      (2,[0],[1.0])|(19,[0,1,2,17],[1...|\n",
      "|       12.6|255.8356|         2543.356|   (15,[1],[1.0])|      (2,[0],[1.0])|(19,[0,1,3,17],[1...|\n",
      "|       12.6|171.3764|         3091.975|   (15,[6],[1.0])|      (2,[0],[1.0])|(19,[0,1,8,17],[1...|\n",
      "|       12.6| 155.963|         3285.723|  (15,[14],[1.0])|      (2,[0],[1.0])|(19,[0,1,16,17],[...|\n",
      "|       12.6|149.9708|        4363.6533|   (15,[2],[1.0])|      (2,[0],[1.0])|(19,[0,1,4,17],[1...|\n",
      "|       12.6|178.5344|        2854.9504|   (15,[1],[1.0])|      (2,[0],[1.0])|(19,[0,1,3,17],[1...|\n",
      "|       12.6|121.7098|         4097.333|   (15,[1],[1.0])|      (2,[0],[1.0])|(19,[0,1,3,17],[1...|\n",
      "|       12.6|180.5976|        7968.2944|   (15,[5],[1.0])|      (2,[0],[1.0])|(19,[0,1,7,17],[1...|\n",
      "|       12.6|224.4404|        6976.2524|   (15,[7],[1.0])|      (2,[0],[1.0])|(19,[0,1,9,17],[1...|\n",
      "|       12.6|165.4526|        5262.4834|  (15,[13],[1.0])|      (2,[0],[1.0])|(19,[0,1,15,17],[...|\n",
      "|       12.6|   31.29|           898.83|   (15,[8],[1.0])|      (2,[0],[1.0])|(19,[0,1,10,17],[...|\n",
      "|       12.6| 97.0094|        1808.9786|   (15,[0],[1.0])|      (2,[0],[1.0])|(19,[0,1,2,17],[1...|\n",
      "|       12.6|198.8084|         5555.435|   (15,[2],[1.0])|      (2,[0],[1.0])|(19,[0,1,4,17],[1...|\n",
      "|       12.6|153.0656|         6024.158|   (15,[3],[1.0])|      (2,[0],[1.0])|(19,[0,1,5,17],[1...|\n",
      "+-----------+--------+-----------------+-----------------+-------------------+--------------------+\n",
      "only showing top 20 rows\n",
      "\n"
     ]
    }
   ],
   "source": [
    "output.show()"
   ]
  },
  {
   "cell_type": "code",
   "execution_count": 37,
   "metadata": {},
   "outputs": [],
   "source": [
    "df = output.select('features','Item_Outlet_Sales')"
   ]
  },
  {
   "cell_type": "code",
   "execution_count": 38,
   "metadata": {},
   "outputs": [
    {
     "name": "stdout",
     "output_type": "stream",
     "text": [
      "+--------------------+-----------------+\n",
      "|            features|Item_Outlet_Sales|\n",
      "+--------------------+-----------------+\n",
      "|(19,[0,1,3,17],[1...|        4022.7637|\n",
      "|(19,[0,1,13,17],[...|         2303.668|\n",
      "|(19,[0,1,8,17],[1...|        4064.0432|\n",
      "|(19,[0,1,2,17],[1...|        2797.6917|\n",
      "|(19,[0,1,3,17],[1...|         388.1614|\n",
      "|(19,[0,1,3,17],[1...|         2180.495|\n",
      "|(19,[0,1,2,17],[1...|         484.7024|\n",
      "|(19,[0,1,3,17],[1...|         2543.356|\n",
      "|(19,[0,1,8,17],[1...|         3091.975|\n",
      "|(19,[0,1,16,17],[...|         3285.723|\n",
      "|(19,[0,1,4,17],[1...|        4363.6533|\n",
      "|(19,[0,1,3,17],[1...|        2854.9504|\n",
      "|(19,[0,1,3,17],[1...|         4097.333|\n",
      "|(19,[0,1,7,17],[1...|        7968.2944|\n",
      "|(19,[0,1,9,17],[1...|        6976.2524|\n",
      "|(19,[0,1,15,17],[...|        5262.4834|\n",
      "|(19,[0,1,10,17],[...|           898.83|\n",
      "|(19,[0,1,2,17],[1...|        1808.9786|\n",
      "|(19,[0,1,4,17],[1...|         5555.435|\n",
      "|(19,[0,1,5,17],[1...|         6024.158|\n",
      "+--------------------+-----------------+\n",
      "only showing top 20 rows\n",
      "\n"
     ]
    }
   ],
   "source": [
    "df.show()"
   ]
  },
  {
   "cell_type": "markdown",
   "metadata": {},
   "source": [
    "# scaling features"
   ]
  },
  {
   "cell_type": "code",
   "execution_count": 39,
   "metadata": {},
   "outputs": [],
   "source": [
    "# feature scaling\n",
    "scaler = MinMaxScaler(inputCol=\"features\", outputCol=\"scaledFeatures\")\n",
    "scalerModel = scaler.fit(df)\n",
    "scaledData = scalerModel.transform(df)"
   ]
  },
  {
   "cell_type": "code",
   "execution_count": 40,
   "metadata": {},
   "outputs": [
    {
     "name": "stdout",
     "output_type": "stream",
     "text": [
      "+--------------------+-----------------+--------------------+\n",
      "|            features|Item_Outlet_Sales|      scaledFeatures|\n",
      "+--------------------+-----------------+--------------------+\n",
      "|(19,[0,1,3,17],[1...|        4022.7637|(19,[0,1,3,17],[0...|\n",
      "|(19,[0,1,13,17],[...|         2303.668|(19,[0,1,13,17],[...|\n",
      "|(19,[0,1,8,17],[1...|        4064.0432|(19,[0,1,8,17],[0...|\n",
      "|(19,[0,1,2,17],[1...|        2797.6917|(19,[0,1,2,17],[0...|\n",
      "|(19,[0,1,3,17],[1...|         388.1614|(19,[0,1,3,17],[0...|\n",
      "|(19,[0,1,3,17],[1...|         2180.495|(19,[0,1,3,17],[0...|\n",
      "|(19,[0,1,2,17],[1...|         484.7024|(19,[0,1,2,17],[0...|\n",
      "|(19,[0,1,3,17],[1...|         2543.356|(19,[0,1,3,17],[0...|\n",
      "|(19,[0,1,8,17],[1...|         3091.975|(19,[0,1,8,17],[0...|\n",
      "|(19,[0,1,16,17],[...|         3285.723|(19,[0,1,16,17],[...|\n",
      "|(19,[0,1,4,17],[1...|        4363.6533|(19,[0,1,4,17],[0...|\n",
      "|(19,[0,1,3,17],[1...|        2854.9504|(19,[0,1,3,17],[0...|\n",
      "|(19,[0,1,3,17],[1...|         4097.333|(19,[0,1,3,17],[0...|\n",
      "|(19,[0,1,7,17],[1...|        7968.2944|(19,[0,1,7,17],[0...|\n",
      "|(19,[0,1,9,17],[1...|        6976.2524|(19,[0,1,9,17],[0...|\n",
      "|(19,[0,1,15,17],[...|        5262.4834|(19,[0,1,15,17],[...|\n",
      "|(19,[0,1,10,17],[...|           898.83|(19,[0,10,17],[0....|\n",
      "|(19,[0,1,2,17],[1...|        1808.9786|(19,[0,1,2,17],[0...|\n",
      "|(19,[0,1,4,17],[1...|         5555.435|(19,[0,1,4,17],[0...|\n",
      "|(19,[0,1,5,17],[1...|         6024.158|(19,[0,1,5,17],[0...|\n",
      "+--------------------+-----------------+--------------------+\n",
      "only showing top 20 rows\n",
      "\n"
     ]
    }
   ],
   "source": [
    "scaledData.show()"
   ]
  },
  {
   "cell_type": "code",
   "execution_count": 41,
   "metadata": {},
   "outputs": [],
   "source": [
    "scaledData = scaledData.drop('features')"
   ]
  },
  {
   "cell_type": "code",
   "execution_count": 42,
   "metadata": {},
   "outputs": [
    {
     "name": "stdout",
     "output_type": "stream",
     "text": [
      "+-----------------+--------------------+\n",
      "|Item_Outlet_Sales|      scaledFeatures|\n",
      "+-----------------+--------------------+\n",
      "|        4022.7637|(19,[0,1,3,17],[0...|\n",
      "|         2303.668|(19,[0,1,13,17],[...|\n",
      "|        4064.0432|(19,[0,1,8,17],[0...|\n",
      "|        2797.6917|(19,[0,1,2,17],[0...|\n",
      "|         388.1614|(19,[0,1,3,17],[0...|\n",
      "|         2180.495|(19,[0,1,3,17],[0...|\n",
      "|         484.7024|(19,[0,1,2,17],[0...|\n",
      "|         2543.356|(19,[0,1,3,17],[0...|\n",
      "|         3091.975|(19,[0,1,8,17],[0...|\n",
      "|         3285.723|(19,[0,1,16,17],[...|\n",
      "|        4363.6533|(19,[0,1,4,17],[0...|\n",
      "|        2854.9504|(19,[0,1,3,17],[0...|\n",
      "|         4097.333|(19,[0,1,3,17],[0...|\n",
      "|        7968.2944|(19,[0,1,7,17],[0...|\n",
      "|        6976.2524|(19,[0,1,9,17],[0...|\n",
      "|        5262.4834|(19,[0,1,15,17],[...|\n",
      "|           898.83|(19,[0,10,17],[0....|\n",
      "|        1808.9786|(19,[0,1,2,17],[0...|\n",
      "|         5555.435|(19,[0,1,4,17],[0...|\n",
      "|         6024.158|(19,[0,1,5,17],[0...|\n",
      "+-----------------+--------------------+\n",
      "only showing top 20 rows\n",
      "\n"
     ]
    }
   ],
   "source": [
    "scaledData.show()"
   ]
  },
  {
   "cell_type": "markdown",
   "metadata": {},
   "source": [
    "# train and test split"
   ]
  },
  {
   "cell_type": "code",
   "execution_count": 43,
   "metadata": {},
   "outputs": [],
   "source": [
    "# splitting the dataframe into train and test\n",
    "train,test = scaledData.randomSplit([0.80,0.20])"
   ]
  },
  {
   "cell_type": "code",
   "execution_count": 44,
   "metadata": {},
   "outputs": [
    {
     "name": "stdout",
     "output_type": "stream",
     "text": [
      "+-----------------+--------------------+\n",
      "|Item_Outlet_Sales|      scaledFeatures|\n",
      "+-----------------+--------------------+\n",
      "|            33.29|(19,[0,1,4,17],[0...|\n",
      "|            33.29|(19,[0,1,10,17],[...|\n",
      "|          33.9558|(19,[0,1,3,18],[0...|\n",
      "|          35.2874|(19,[0,1,12,17],[...|\n",
      "|           36.619|(19,[0,1,5,17],[0...|\n",
      "|           36.619|(19,[0,1,5,18],[0...|\n",
      "|          37.2848|(19,[0,1,8,18],[0...|\n",
      "|          37.9506|(19,[0,1,5,18],[0...|\n",
      "|          37.9506|(19,[0,1,7,18],[0...|\n",
      "|          37.9506|(19,[0,1,9,17],[0...|\n",
      "|          37.9506|(19,[0,1,13,18],[...|\n",
      "|          38.6164|(19,[0,1,8,18],[0...|\n",
      "|           39.948|(19,[0,1,14,18],[...|\n",
      "|          40.6138|(19,[0,1,6,18],[0...|\n",
      "|          40.6138|(19,[0,1,10,18],[...|\n",
      "|          41.2796|(19,[0,1,4,18],[0...|\n",
      "|          41.2796|(19,[0,1,5,17],[0...|\n",
      "|          41.2796|(19,[0,1,5,18],[0...|\n",
      "|          41.9454|(19,[0,1,4,17],[0...|\n",
      "|          42.6112|(19,[0,1,3,18],[0...|\n",
      "+-----------------+--------------------+\n",
      "only showing top 20 rows\n",
      "\n"
     ]
    }
   ],
   "source": [
    "train.show()"
   ]
  },
  {
   "cell_type": "code",
   "execution_count": 45,
   "metadata": {},
   "outputs": [
    {
     "name": "stdout",
     "output_type": "stream",
     "text": [
      "+-----------------+--------------------+\n",
      "|Item_Outlet_Sales|      scaledFeatures|\n",
      "+-----------------+--------------------+\n",
      "|          34.6216|(19,[0,1,9,18],[0...|\n",
      "|          37.9506|(19,[0,1,5,18],[0...|\n",
      "|          38.6164|(19,[0,1,5,18],[0...|\n",
      "|           39.948|(19,[0,1,16,17],[...|\n",
      "|          41.9454|(19,[0,1,5,18],[0...|\n",
      "|          41.9454|(19,[0,1,7,17],[0...|\n",
      "|          44.6086|(19,[0,1,4,17],[0...|\n",
      "|          45.2744|(19,[0,1,2,17],[0...|\n",
      "|          45.9402|(19,[0,1,3,18],[0...|\n",
      "|          47.9376|(19,[0,1,11,17],[...|\n",
      "|          48.6034|(19,[0,1,8,18],[0...|\n",
      "|          50.6008|(19,[0,1,3,18],[0...|\n",
      "|          57.2588|(19,[0,1,3,17],[0...|\n",
      "|          59.2562|(19,[0,1,3,17],[0...|\n",
      "|          61.2536|(19,[0,1,9,18],[0...|\n",
      "|           63.251|(19,[0,1,3,17],[0...|\n",
      "|          69.2432|(19,[0,1,4,17],[0...|\n",
      "|          71.9064|(19,[0,1,11,17],[...|\n",
      "|           73.238|(19,[0,1,4],[0.94...|\n",
      "|           73.238|(19,[0,1,13,17],[...|\n",
      "+-----------------+--------------------+\n",
      "only showing top 20 rows\n",
      "\n"
     ]
    }
   ],
   "source": [
    "test.show()"
   ]
  },
  {
   "cell_type": "code",
   "execution_count": 46,
   "metadata": {},
   "outputs": [
    {
     "data": {
      "text/plain": [
       "(6876, 1647)"
      ]
     },
     "execution_count": 46,
     "metadata": {},
     "output_type": "execute_result"
    }
   ],
   "source": [
    "train.count() , test.count()"
   ]
  },
  {
   "cell_type": "markdown",
   "metadata": {},
   "source": [
    "# Linear Regression"
   ]
  },
  {
   "cell_type": "code",
   "execution_count": 47,
   "metadata": {},
   "outputs": [],
   "source": [
    "# linear regression to predict the sales\n",
    "lin_reg = LinearRegression(featuresCol='scaledFeatures',labelCol='Item_Outlet_Sales')\n",
    "lin_model = lin_reg.fit(train)"
   ]
  },
  {
   "cell_type": "markdown",
   "metadata": {},
   "source": [
    "# evaluating the model"
   ]
  },
  {
   "cell_type": "code",
   "execution_count": 48,
   "metadata": {},
   "outputs": [
    {
     "name": "stdout",
     "output_type": "stream",
     "text": [
      "coefficients:  [-47.526892717811165,3694.23651229249,-47.23581347992821,-99.97850838426577,-108.99847753146935,-114.02608172920395,-140.08238301123225,-14.759205993893962,-86.35949251766314,-131.1207458524887,-116.12472487702583,-90.45145023908395,-91.22189181205908,-36.77962192881197,-201.50688069908944,-0.33586738933393506,-151.53315078316604,-8.670267447095629,-424.9127602566422]\n",
      "intercept:  707.5812017346295\n"
     ]
    }
   ],
   "source": [
    "print(\"coefficients: \",lin_model.coefficients)\n",
    "print('intercept: ',lin_model.intercept)"
   ]
  },
  {
   "cell_type": "markdown",
   "metadata": {},
   "source": [
    "# model summary"
   ]
  },
  {
   "cell_type": "code",
   "execution_count": 49,
   "metadata": {},
   "outputs": [
    {
     "name": "stdout",
     "output_type": "stream",
     "text": [
      "RMSE:  1389.449130294381\n",
      "R2Score:  33.78847416580976\n"
     ]
    }
   ],
   "source": [
    "# evaluating the model using regression metrices\n",
    "model_summary = lin_model.summary\n",
    "print('RMSE: ',model_summary.rootMeanSquaredError)\n",
    "print('R2Score: ',model_summary.r2*100)"
   ]
  },
  {
   "cell_type": "markdown",
   "metadata": {},
   "source": [
    "# prediction on test set"
   ]
  },
  {
   "cell_type": "code",
   "execution_count": 50,
   "metadata": {},
   "outputs": [],
   "source": [
    "prediction = lin_model.transform(test) # predicting the sales"
   ]
  },
  {
   "cell_type": "code",
   "execution_count": 51,
   "metadata": {},
   "outputs": [
    {
     "name": "stdout",
     "output_type": "stream",
     "text": [
      "+-----------------+--------------------+------------------+\n",
      "|Item_Outlet_Sales|      scaledFeatures|        prediction|\n",
      "+-----------------+--------------------+------------------+\n",
      "|          34.6216|(19,[0,1,9,18],[0...|176.31795476902312|\n",
      "|          37.9506|(19,[0,1,5,18],[0...| 280.1085876122519|\n",
      "|          38.6164|(19,[0,1,5,18],[0...|281.14034210030024|\n",
      "|           39.948|(19,[0,1,16,17],[...| 653.4846514848872|\n",
      "|          41.9454|(19,[0,1,5,18],[0...| 311.3875148348544|\n",
      "|          41.9454|(19,[0,1,7,17],[0...|  815.248104162974|\n",
      "|          44.6086|(19,[0,1,4,17],[0...| 778.2025556270044|\n",
      "|          45.2744|(19,[0,1,2,17],[0...| 846.0633204789615|\n",
      "|          45.9402|(19,[0,1,3,18],[0...| 392.7785272716899|\n",
      "|          47.9376|(19,[0,1,11,17],[...| 843.8649681193923|\n",
      "|          48.6034|(19,[0,1,8,18],[0...| 449.7251304734849|\n",
      "|          50.6008|(19,[0,1,3,18],[0...| 486.2420613306261|\n",
      "|          57.2588|(19,[0,1,3,17],[0...|1008.0973465970196|\n",
      "|          59.2562|(19,[0,1,3,17],[0...| 996.8085112052877|\n",
      "|          61.2536|(19,[0,1,9,18],[0...| 597.0497775120953|\n",
      "|           63.251|(19,[0,1,3,17],[0...|1058.0931251705865|\n",
      "|          69.2432|(19,[0,1,4,17],[0...| 650.5860311891454|\n",
      "|          71.9064|(19,[0,1,11,17],[...| 687.2027364462742|\n",
      "|           73.238|(19,[0,1,4],[0.94...| 610.3646948794179|\n",
      "|           73.238|(19,[0,1,13,17],[...|1313.1894559131383|\n",
      "+-----------------+--------------------+------------------+\n",
      "only showing top 20 rows\n",
      "\n"
     ]
    }
   ],
   "source": [
    "prediction.show()"
   ]
  },
  {
   "cell_type": "markdown",
   "metadata": {},
   "source": [
    "# evaluating test result for linear regression"
   ]
  },
  {
   "cell_type": "code",
   "execution_count": 52,
   "metadata": {},
   "outputs": [
    {
     "name": "stdout",
     "output_type": "stream",
     "text": [
      "rsquared_for_test_data:  0.313935295035073\n"
     ]
    }
   ],
   "source": [
    "# model evaluation for the test data\n",
    "linear_model_evaluator = RegressionEvaluator(predictionCol='prediction',labelCol='Item_Outlet_Sales',metricName='r2')\n",
    "print('rsquared_for_test_data: ',linear_model_evaluator.evaluate(prediction))"
   ]
  },
  {
   "cell_type": "code",
   "execution_count": null,
   "metadata": {},
   "outputs": [],
   "source": []
  }
 ],
 "metadata": {
  "kernelspec": {
   "display_name": "Python 3",
   "language": "python",
   "name": "python3"
  },
  "language_info": {
   "codemirror_mode": {
    "name": "ipython",
    "version": 3
   },
   "file_extension": ".py",
   "mimetype": "text/x-python",
   "name": "python",
   "nbconvert_exporter": "python",
   "pygments_lexer": "ipython3",
   "version": "3.11.5"
  }
 },
 "nbformat": 4,
 "nbformat_minor": 2
}
